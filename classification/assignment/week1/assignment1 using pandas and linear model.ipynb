{
 "cells": [
  {
   "cell_type": "code",
   "execution_count": 1,
   "metadata": {
    "collapsed": true
   },
   "outputs": [],
   "source": [
    "import pandas as pd\n",
    "from sklearn.cross_validation import train_test_split\n",
    "import numpy as np"
   ]
  },
  {
   "cell_type": "code",
   "execution_count": 2,
   "metadata": {
    "collapsed": true
   },
   "outputs": [],
   "source": [
    "dtype_dic={'name':str,'review':str,'rating':float}"
   ]
  },
  {
   "cell_type": "code",
   "execution_count": 3,
   "metadata": {
    "collapsed": false
   },
   "outputs": [],
   "source": [
    "products=pd.read_csv('amazon_baby.csv',dtype=dtype_dic)"
   ]
  },
  {
   "cell_type": "code",
   "execution_count": 4,
   "metadata": {
    "collapsed": false
   },
   "outputs": [],
   "source": [
    "products = products.fillna({'review':''})"
   ]
  },
  {
   "cell_type": "code",
   "execution_count": 5,
   "metadata": {
    "collapsed": false
   },
   "outputs": [],
   "source": [
    "def remove_punctuation(text):\n",
    "    import string\n",
    "    return text.translate(None, string.punctuation) \n",
    "\n",
    "products['review_clean'] = products['review'].apply(remove_punctuation)"
   ]
  },
  {
   "cell_type": "code",
   "execution_count": 6,
   "metadata": {
    "collapsed": true
   },
   "outputs": [],
   "source": [
    "products=products[products['rating']!=3]"
   ]
  },
  {
   "cell_type": "code",
   "execution_count": 7,
   "metadata": {
    "collapsed": false
   },
   "outputs": [
    {
     "data": {
      "text/plain": [
       "(166752, 4)"
      ]
     },
     "execution_count": 7,
     "metadata": {},
     "output_type": "execute_result"
    }
   ],
   "source": [
    "products.shape"
   ]
  },
  {
   "cell_type": "code",
   "execution_count": 8,
   "metadata": {
    "collapsed": true
   },
   "outputs": [],
   "source": [
    "products['sentiment'] = products['rating'].apply(lambda rating : +1 if rating > 3 else -1)"
   ]
  },
  {
   "cell_type": "code",
   "execution_count": 9,
   "metadata": {
    "collapsed": false
   },
   "outputs": [],
   "source": [
    "train_data, test_data = train_test_split(products, test_size = 0.2,random_state=1)"
   ]
  },
  {
   "cell_type": "code",
   "execution_count": 10,
   "metadata": {
    "collapsed": false
   },
   "outputs": [
    {
     "data": {
      "text/plain": [
       "(33351, 5)"
      ]
     },
     "execution_count": 10,
     "metadata": {},
     "output_type": "execute_result"
    }
   ],
   "source": [
    "test_data.shape"
   ]
  },
  {
   "cell_type": "code",
   "execution_count": 11,
   "metadata": {
    "collapsed": false
   },
   "outputs": [],
   "source": [
    "from sklearn.feature_extraction.text import CountVectorizer\n",
    "vectorizer = CountVectorizer(token_pattern=r'\\b\\w+\\b')\n",
    "# Use this token pattern to keep single-letter words\n",
    "# First, learn vocabulary from the training data and assign columns to words\n",
    "# Then convert the training data into a sparse matrix\n",
    "train_matrix = vectorizer.fit_transform(train_data['review_clean'])\n",
    "# Second, convert the test data into a sparse matrix, using the same word-column mapping\n",
    "test_matrix = vectorizer.transform(test_data['review_clean'])"
   ]
  },
  {
   "cell_type": "code",
   "execution_count": 12,
   "metadata": {
    "collapsed": false
   },
   "outputs": [
    {
     "name": "stdout",
     "output_type": "stream",
     "text": [
      "                                                     name  \\\n",
      "117165       Lassig Glam Small Messenger Diaper Bag ,navy   \n",
      "30667   BOB Weather Shield for Single Revolution/Strol...   \n",
      "60268                Tiny Love Sweet Island Dreams Mobile   \n",
      "\n",
      "                                                   review  rating  \\\n",
      "117165  While I'm sure this bag is a wonderful diaper ...       5   \n",
      "30667   This weather shield has been a great accessory...       5   \n",
      "60268   And we managed to get it to attach to the Grac...       5   \n",
      "\n",
      "                                             review_clean  sentiment  \n",
      "117165  While Im sure this bag is a wonderful diaper b...          1  \n",
      "30667   This weather shield has been a great accessory...          1  \n",
      "60268   And we managed to get it to attach to the Grac...          1  \n"
     ]
    }
   ],
   "source": [
    "sample_test_data=test_data[10:13]\n",
    "print sample_test_data"
   ]
  },
  {
   "cell_type": "code",
   "execution_count": 13,
   "metadata": {
    "collapsed": false
   },
   "outputs": [],
   "source": [
    "sample_test_matrix = vectorizer.transform(sample_test_data['review_clean'])"
   ]
  },
  {
   "cell_type": "code",
   "execution_count": 14,
   "metadata": {
    "collapsed": true
   },
   "outputs": [],
   "source": [
    "from sklearn import linear_model, datasets\n",
    "sentiment_model=linear_model.LogisticRegression(C=1e5)"
   ]
  },
  {
   "cell_type": "code",
   "execution_count": 15,
   "metadata": {
    "collapsed": false
   },
   "outputs": [
    {
     "data": {
      "text/html": [
       "<div>\n",
       "<table border=\"1\" class=\"dataframe\">\n",
       "  <thead>\n",
       "    <tr style=\"text-align: right;\">\n",
       "      <th></th>\n",
       "      <th>name</th>\n",
       "      <th>review</th>\n",
       "      <th>rating</th>\n",
       "      <th>review_clean</th>\n",
       "      <th>sentiment</th>\n",
       "    </tr>\n",
       "  </thead>\n",
       "  <tbody>\n",
       "    <tr>\n",
       "      <th>51943</th>\n",
       "      <td>Baby Einstein Take Along Tunes</td>\n",
       "      <td></td>\n",
       "      <td>5</td>\n",
       "      <td></td>\n",
       "      <td>1</td>\n",
       "    </tr>\n",
       "    <tr>\n",
       "      <th>94328</th>\n",
       "      <td>My Brest Friend Inflatable Travel Nursing Pill...</td>\n",
       "      <td>I loved my \"Breast Friend\" nursing pillow so m...</td>\n",
       "      <td>5</td>\n",
       "      <td>I loved my Breast Friend nursing pillow so muc...</td>\n",
       "      <td>1</td>\n",
       "    </tr>\n",
       "    <tr>\n",
       "      <th>130352</th>\n",
       "      <td>The Grandparent Gift Co. Growing in Faith Keep...</td>\n",
       "      <td>I bought this for my baby's baptism photos. Is...</td>\n",
       "      <td>4</td>\n",
       "      <td>I bought this for my babys baptism photos Is v...</td>\n",
       "      <td>1</td>\n",
       "    </tr>\n",
       "    <tr>\n",
       "      <th>181820</th>\n",
       "      <td>BABYSOFT iBib - The Ultimate Silicone Baby Bib...</td>\n",
       "      <td>Well made. Silicone is very soft but stiff eno...</td>\n",
       "      <td>5</td>\n",
       "      <td>Well made Silicone is very soft but stiff enou...</td>\n",
       "      <td>1</td>\n",
       "    </tr>\n",
       "    <tr>\n",
       "      <th>28831</th>\n",
       "      <td>Summer Infant Secure Surround Play Safe Play Y...</td>\n",
       "      <td>We have used this extensively for the past mon...</td>\n",
       "      <td>5</td>\n",
       "      <td>We have used this extensively for the past mon...</td>\n",
       "      <td>1</td>\n",
       "    </tr>\n",
       "  </tbody>\n",
       "</table>\n",
       "</div>"
      ],
      "text/plain": [
       "                                                     name  \\\n",
       "51943                      Baby Einstein Take Along Tunes   \n",
       "94328   My Brest Friend Inflatable Travel Nursing Pill...   \n",
       "130352  The Grandparent Gift Co. Growing in Faith Keep...   \n",
       "181820  BABYSOFT iBib - The Ultimate Silicone Baby Bib...   \n",
       "28831   Summer Infant Secure Surround Play Safe Play Y...   \n",
       "\n",
       "                                                   review  rating  \\\n",
       "51943                                                           5   \n",
       "94328   I loved my \"Breast Friend\" nursing pillow so m...       5   \n",
       "130352  I bought this for my baby's baptism photos. Is...       4   \n",
       "181820  Well made. Silicone is very soft but stiff eno...       5   \n",
       "28831   We have used this extensively for the past mon...       5   \n",
       "\n",
       "                                             review_clean  sentiment  \n",
       "51943                                                              1  \n",
       "94328   I loved my Breast Friend nursing pillow so muc...          1  \n",
       "130352  I bought this for my babys baptism photos Is v...          1  \n",
       "181820  Well made Silicone is very soft but stiff enou...          1  \n",
       "28831   We have used this extensively for the past mon...          1  "
      ]
     },
     "execution_count": 15,
     "metadata": {},
     "output_type": "execute_result"
    }
   ],
   "source": [
    "train_data.head()"
   ]
  },
  {
   "cell_type": "code",
   "execution_count": 16,
   "metadata": {
    "collapsed": false
   },
   "outputs": [
    {
     "data": {
      "text/plain": [
       "LogisticRegression(C=100000.0, class_weight=None, dual=False,\n",
       "          fit_intercept=True, intercept_scaling=1, max_iter=100,\n",
       "          multi_class='ovr', penalty='l2', random_state=None,\n",
       "          solver='liblinear', tol=0.0001, verbose=0)"
      ]
     },
     "execution_count": 16,
     "metadata": {},
     "output_type": "execute_result"
    }
   ],
   "source": [
    "sentiment_model.fit(train_matrix,train_data.sentiment)"
   ]
  },
  {
   "cell_type": "code",
   "execution_count": 17,
   "metadata": {
    "collapsed": false
   },
   "outputs": [
    {
     "name": "stdout",
     "output_type": "stream",
     "text": [
      "[  9.90833917  14.25310269   0.5722351 ]\n"
     ]
    }
   ],
   "source": [
    "scores = sentiment_model.decision_function(sample_test_matrix)\n",
    "print scores"
   ]
  },
  {
   "cell_type": "code",
   "execution_count": 21,
   "metadata": {
    "collapsed": false
   },
   "outputs": [
    {
     "name": "stdout",
     "output_type": "stream",
     "text": [
      "3.25582559396\n",
      "7.02879906361\n",
      "8.40859667409\n",
      "7.58812608201\n",
      "11.8798850401\n",
      "3.65026617163\n",
      "3.01185788645\n",
      "6.06972038901\n",
      "4.39625162744\n",
      "4.14485249538\n",
      "9.90833916855\n",
      "14.2531026885\n",
      "0.572235099413\n",
      "4.28655786528\n",
      "12.2518386893\n",
      "-10.7325941215\n",
      "5.70076355401\n",
      "4.42700867893\n",
      "4.07611097886\n",
      "-2.55301782855\n",
      "-3.37365115449\n",
      "18.6352615447\n",
      "6.37073752861\n",
      "2.47547201895\n",
      "7.54141836327\n",
      "6.26194676048\n",
      "12.9220076996\n",
      "3.12969594119\n",
      "-0.669881290323\n",
      "14.0639823547\n",
      "3.74731101059\n",
      "8.77519660386\n",
      "12.443374445\n",
      "5.87170473543\n",
      "13.5845363363\n",
      "12.3893051891\n",
      "1.86855973639\n",
      "6.3844435973\n",
      "7.8948138838\n",
      "4.00490193328\n",
      "9.89008188695\n",
      "2.96555797911\n",
      "-11.217974187\n",
      "8.7972064968\n",
      "2.87799465219\n",
      "-2.04761169179\n",
      "22.3812559915\n",
      "7.50488388284\n",
      "-13.768811455\n",
      "9.55479245809\n",
      "-7.53149651418\n",
      "7.95668272181\n",
      "10.2774269724\n",
      "8.50026483746\n",
      "9.25755448557\n",
      "11.102316853\n",
      "6.04980047216\n",
      "2.49779534683\n",
      "1.04111656673\n",
      "10.3509654358\n",
      "4.59165771964\n",
      "-16.6339903225\n",
      "3.63718314214\n",
      "4.52884738647\n",
      "11.456240367\n",
      "5.52159791258\n",
      "7.58525510276\n",
      "1.55753316031\n",
      "8.95184645528\n",
      "17.3614085304\n",
      "5.86375514441\n",
      "2.80071980892\n",
      "-7.22240091966\n",
      "1.49628200122\n",
      "1.67048743017\n",
      "5.85803333277\n",
      "5.38121587775\n",
      "5.27555657712\n",
      "7.20298324725\n",
      "3.78024171489\n",
      "2.95598757414\n",
      "7.77574729294\n",
      "7.14401744534\n",
      "3.3417485077\n",
      "11.7712286661\n",
      "2.74862680691\n",
      "-3.44439289001\n",
      "1.47741139437\n",
      "21.3240339659\n",
      "14.3110093619\n",
      "3.00727152231\n",
      "8.97336736091\n",
      "12.3902892719\n",
      "1.36655086516\n",
      "2.20214021822\n",
      "-2.60084987092\n",
      "17.334326474\n",
      "3.49449521095\n",
      "13.1461553061\n",
      "13.3258077674\n"
     ]
    }
   ],
   "source": [
    "sss=sentiment_model.decision_function(test_matrix)\n",
    "for i in range(0,100):\n",
    "    print sss[i]"
   ]
  },
  {
   "cell_type": "code",
   "execution_count": 22,
   "metadata": {
    "collapsed": false
   },
   "outputs": [],
   "source": [
    "result=sentiment_model.predict(test_matrix)"
   ]
  },
  {
   "cell_type": "code",
   "execution_count": 23,
   "metadata": {
    "collapsed": false
   },
   "outputs": [
    {
     "data": {
      "text/plain": [
       "array([1, 1, 1, ..., 1, 1, 1])"
      ]
     },
     "execution_count": 23,
     "metadata": {},
     "output_type": "execute_result"
    }
   ],
   "source": [
    "result"
   ]
  },
  {
   "cell_type": "code",
   "execution_count": 24,
   "metadata": {
    "collapsed": false
   },
   "outputs": [],
   "source": [
    "test_data=test_data.reset_index(drop=True)"
   ]
  },
  {
   "cell_type": "code",
   "execution_count": 25,
   "metadata": {
    "collapsed": true
   },
   "outputs": [],
   "source": [
    "new=pd.concat([test_data,pd.DataFrame(result)],axis=1)"
   ]
  },
  {
   "cell_type": "code",
   "execution_count": 26,
   "metadata": {
    "collapsed": false
   },
   "outputs": [
    {
     "data": {
      "text/plain": [
       "0.92836796497856133"
      ]
     },
     "execution_count": 26,
     "metadata": {},
     "output_type": "execute_result"
    }
   ],
   "source": [
    "(new['sentiment']==new[0]).sum()*1.0/new.shape[0]"
   ]
  },
  {
   "cell_type": "code",
   "execution_count": null,
   "metadata": {
    "collapsed": true
   },
   "outputs": [],
   "source": []
  }
 ],
 "metadata": {
  "kernelspec": {
   "display_name": "Python 2",
   "language": "python",
   "name": "python2"
  },
  "language_info": {
   "codemirror_mode": {
    "name": "ipython",
    "version": 2
   },
   "file_extension": ".py",
   "mimetype": "text/x-python",
   "name": "python",
   "nbconvert_exporter": "python",
   "pygments_lexer": "ipython2",
   "version": "2.7.10"
  }
 },
 "nbformat": 4,
 "nbformat_minor": 0
}
