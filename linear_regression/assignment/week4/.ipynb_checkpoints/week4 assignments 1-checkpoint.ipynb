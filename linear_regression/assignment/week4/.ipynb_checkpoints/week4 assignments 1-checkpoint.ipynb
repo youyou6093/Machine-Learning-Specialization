{
 "cells": [
  {
   "cell_type": "code",
   "execution_count": 1,
   "metadata": {
    "collapsed": false,
    "scrolled": true
   },
   "outputs": [
    {
     "name": "stderr",
     "output_type": "stream",
     "text": [
      "/Users/junjieyang/anaconda/lib/python2.7/site-packages/ipykernel/__main__.py:5: FutureWarning: sort(columns=....) is deprecated, use sort_values(by=.....)\n"
     ]
    }
   ],
   "source": [
    "import pandas as pd\n",
    "dtype_dict = {'bathrooms':float, 'waterfront':int, 'sqft_above':int, 'sqft_living15':float, 'grade':int, 'yr_renovated':int, 'price':float, 'bedrooms':float, 'zipcode':str, 'long':float, 'sqft_lot15':float, 'sqft_living':float, 'floors':float, 'condition':int, 'lat':float, 'date':str, 'sqft_basement':int, 'yr_built':int, 'id':str, 'sqft_lot':int, 'view':int}\n",
    "\n",
    "sales = pd.read_csv('kc_house_data.csv', dtype=dtype_dict)\n",
    "sales = sales.sort(['sqft_living','price'])"
   ]
  },
  {
   "cell_type": "code",
   "execution_count": 2,
   "metadata": {
    "collapsed": true
   },
   "outputs": [],
   "source": [
    "l2_small_penalty = 1.5e-5"
   ]
  },
  {
   "cell_type": "code",
   "execution_count": 3,
   "metadata": {
    "collapsed": true
   },
   "outputs": [],
   "source": [
    "def polynomial_dataframe(feature, degree): # feature is pandas.Series type\n",
    "    # assume that degree >= 1\n",
    "    # initialize the dataframe:\n",
    "    poly_dataframe = pd.DataFrame()\n",
    "    # and set poly_dataframe['power_1'] equal to the passed feature\n",
    "    poly_dataframe['power_1']=feature\n",
    "    # first check if degree > 1\n",
    "    if degree > 1:\n",
    "        # then loop over the remaining degrees:\n",
    "        for power in range(2, degree+1):\n",
    "            # first we'll give the column a name:\n",
    "            name = 'power_' + str(power)\n",
    "            # assign poly_dataframe[name] to be feature^power; use apply(*)\n",
    "            poly_dataframe[name]=feature.apply(lambda x : x**power)\n",
    "    return poly_dataframe"
   ]
  },
  {
   "cell_type": "code",
   "execution_count": 4,
   "metadata": {
    "collapsed": false
   },
   "outputs": [
    {
     "data": {
      "text/plain": [
       "Ridge(alpha=1.5e-05, copy_X=True, fit_intercept=True, max_iter=None,\n",
       "   normalize=True, solver='auto', tol=0.001)"
      ]
     },
     "execution_count": 4,
     "metadata": {},
     "output_type": "execute_result"
    }
   ],
   "source": [
    "from sklearn import linear_model\n",
    "import numpy as np\n",
    "\n",
    "poly15_data = polynomial_dataframe(sales['sqft_living'], 15) # use equivalent of `polynomial_sframe`\n",
    "model = linear_model.Ridge(alpha=l2_small_penalty, normalize=True)\n",
    "model.fit(poly15_data, sales['price'])"
   ]
  },
  {
   "cell_type": "code",
   "execution_count": 5,
   "metadata": {
    "collapsed": false
   },
   "outputs": [
    {
     "data": {
      "text/plain": [
       "array([  1.24873306e+02,  -4.77376011e-02,   3.01446238e-05,\n",
       "        -2.44419942e-09,  -1.94153675e-13,   8.54085686e-18,\n",
       "         1.51142121e-21,   8.27979094e-26,   6.52603100e-31,\n",
       "        -3.27895017e-34,  -3.87962315e-38,  -2.72437650e-42,\n",
       "        -1.07790800e-46,   3.78242694e-51,   1.39790296e-54])"
      ]
     },
     "execution_count": 5,
     "metadata": {},
     "output_type": "execute_result"
    }
   ],
   "source": [
    "model.coef_"
   ]
  },
  {
   "cell_type": "code",
   "execution_count": 6,
   "metadata": {
    "collapsed": true
   },
   "outputs": [],
   "source": [
    "set_1 = pd.read_csv('wk3_kc_house_set_1_data.csv', dtype=dtype_dict)\n",
    "set_2 = pd.read_csv('wk3_kc_house_set_2_data.csv', dtype=dtype_dict)\n",
    "set_3 = pd.read_csv('wk3_kc_house_set_3_data.csv', dtype=dtype_dict)\n",
    "set_4 = pd.read_csv('wk3_kc_house_set_4_data.csv', dtype=dtype_dict)\n",
    "l2_small_penalty=1e-9"
   ]
  },
  {
   "cell_type": "code",
   "execution_count": 7,
   "metadata": {
    "collapsed": true
   },
   "outputs": [],
   "source": [
    "mode11=linear_model.Ridge(alpha=l2_small_penalty,normalize=True)\n",
    "model2=linear_model.Ridge(alpha=l2_small_penalty,normalize=True)\n",
    "model3=linear_model.Ridge(alpha=l2_small_penalty,normalize=True)\n",
    "model4=linear_model.Ridge(alpha=l2_small_penalty,normalize=True)"
   ]
  },
  {
   "cell_type": "code",
   "execution_count": 8,
   "metadata": {
    "collapsed": false
   },
   "outputs": [],
   "source": [
    "co=[]\n",
    "for i in [set_1,set_2,set_3,set_4]:\n",
    "    poly15_data=polynomial_dataframe(i['sqft_living'], 15)\n",
    "    mode11.fit(poly15_data,i['price'])\n",
    "    co.append(mode11.coef_)"
   ]
  },
  {
   "cell_type": "code",
   "execution_count": 9,
   "metadata": {
    "collapsed": false
   },
   "outputs": [
    {
     "data": {
      "text/plain": [
       "[array([  5.44669404e+02,  -3.55447612e-01,   1.22446386e-04,\n",
       "         -1.17175331e-08,  -3.90512151e-13,  -1.39076510e-17,\n",
       "          1.47860281e-20,   6.87492303e-25,  -7.57204442e-29,\n",
       "         -1.04097282e-32,  -3.71844139e-37,   3.39989255e-41,\n",
       "          5.56592001e-45,   2.53761440e-49,  -3.35152933e-53]),\n",
       " array([  8.59362634e+02,  -8.18118229e-01,   4.28879925e-04,\n",
       "         -9.12770316e-08,  -2.69605490e-12,   3.73980477e-15,\n",
       "         -1.42712001e-19,  -6.30794699e-23,  -1.44559628e-27,\n",
       "          7.44321314e-31,   9.25865930e-35,   3.28031038e-41,\n",
       "         -1.29543524e-42,  -1.38781275e-46,   1.66546461e-50]),\n",
       " array([ -7.55395878e+02,   9.75579426e-01,  -4.58945927e-04,\n",
       "          7.77957805e-08,   7.15014049e-12,  -2.88602048e-15,\n",
       "         -2.13678386e-20,   3.38085342e-23,   2.19178191e-27,\n",
       "         -1.97067920e-31,  -4.15993104e-35,  -1.80196115e-39,\n",
       "          3.19071133e-43,   5.08456894e-47,  -3.93304251e-51]),\n",
       " array([  1.11944588e+03,  -9.83760498e-01,   3.38771137e-04,\n",
       "          3.60376117e-08,  -4.37813759e-11,   5.77191482e-15,\n",
       "          7.66794915e-19,  -9.49297046e-23,  -1.96030824e-26,\n",
       "         -2.10881800e-32,   3.31005021e-34,   3.47733826e-38,\n",
       "         -2.43039086e-42,  -8.79553387e-46,   6.44569688e-50])]"
      ]
     },
     "execution_count": 9,
     "metadata": {},
     "output_type": "execute_result"
    }
   ],
   "source": [
    "co"
   ]
  },
  {
   "cell_type": "code",
   "execution_count": 10,
   "metadata": {
    "collapsed": false
   },
   "outputs": [],
   "source": [
    "l2_large_penalty=1.23e2\n",
    "modelnew=linear_model.Ridge(alpha=l2_large_penalty,normalize=True)"
   ]
  },
  {
   "cell_type": "code",
   "execution_count": 11,
   "metadata": {
    "collapsed": false
   },
   "outputs": [
    {
     "data": {
      "text/plain": [
       "[array([  2.32806803e+00,   3.53621608e-04,   3.31969692e-08,\n",
       "          2.00082477e-12,   1.11492559e-16,   6.57786122e-21,\n",
       "          4.12939525e-25,   2.70393755e-29,   1.81614763e-33,\n",
       "          1.23824277e-37,   8.51872481e-42,   5.89455598e-46,\n",
       "          4.09542560e-50,   2.85464889e-54,   1.99547476e-58]),\n",
       " array([  2.09756903e+00,   3.90817483e-04,   6.67189944e-08,\n",
       "          8.90002997e-12,   9.72639877e-16,   9.69733682e-20,\n",
       "          9.50564475e-24,   9.44491031e-28,   9.57191338e-32,\n",
       "          9.86945155e-36,   1.03101115e-39,   1.08729784e-43,\n",
       "          1.15453748e-47,   1.23211305e-51,   1.31986696e-55]),\n",
       " array([  2.28906258e+00,   4.12472190e-04,   6.08835345e-08,\n",
       "          6.58572163e-12,   6.15278155e-16,   5.64446634e-20,\n",
       "          5.28834396e-24,   5.07091402e-28,   4.94657273e-32,\n",
       "          4.88043809e-36,   4.85009106e-40,   4.84161534e-44,\n",
       "          4.84635021e-48,   4.85883628e-52,   4.87558469e-56]),\n",
       " array([  2.08596194e+00,   4.05035772e-04,   7.46864647e-08,\n",
       "          1.13096608e-11,   1.45864442e-15,   1.73561251e-19,\n",
       "          2.01609632e-23,   2.34605255e-27,   2.75636073e-31,\n",
       "          3.27043069e-35,   3.91046855e-39,   4.70118041e-43,\n",
       "          5.67212304e-47,   6.85958087e-51,   8.30843630e-55])]"
      ]
     },
     "execution_count": 11,
     "metadata": {},
     "output_type": "execute_result"
    }
   ],
   "source": [
    "co=[]\n",
    "for i in [set_1,set_2,set_3,set_4]:\n",
    "    poly15_data=polynomial_dataframe(i['sqft_living'], 15)\n",
    "    modelnew.fit(poly15_data,i['price'])\n",
    "    co.append(modelnew.coef_)\n",
    "co"
   ]
  },
  {
   "cell_type": "markdown",
   "metadata": {},
   "source": [
    "## K-fold"
   ]
  },
  {
   "cell_type": "code",
   "execution_count": 12,
   "metadata": {
    "collapsed": true
   },
   "outputs": [],
   "source": [
    "train_valid_shuffled = pd.read_csv('wk3_kc_house_train_valid_shuffled.csv', dtype=dtype_dict)\n",
    "test = pd.read_csv('wk3_kc_house_test_data.csv', dtype=dtype_dict)"
   ]
  },
  {
   "cell_type": "code",
   "execution_count": 13,
   "metadata": {
    "collapsed": false
   },
   "outputs": [
    {
     "name": "stdout",
     "output_type": "stream",
     "text": [
      "19396\n",
      "0 (0, 1938)\n",
      "1 (1939, 3878)\n",
      "2 (3879, 5817)\n",
      "3 (5818, 7757)\n",
      "4 (7758, 9697)\n",
      "5 (9698, 11636)\n",
      "6 (11637, 13576)\n",
      "7 (13577, 15515)\n",
      "8 (15516, 17455)\n",
      "9 (17456, 19395)\n"
     ]
    }
   ],
   "source": [
    "n = len(train_valid_shuffled)\n",
    "k = 10 # 10-fold cross-validation\n",
    "print n\n",
    "for i in xrange(k):\n",
    "    start = (n*i)/k\n",
    "    end = (n*(i+1))/k-1\n",
    "    print i, (start, end)"
   ]
  },
  {
   "cell_type": "code",
   "execution_count": null,
   "metadata": {
    "collapsed": true
   },
   "outputs": [],
   "source": [
    "trainset=[]\n",
    "for i in range(0,10):\n",
    "    start=(n*i)/10\n",
    "    end=(n*(i+1))/10\n",
    "    trainset.append(train_valid_shuffled[start:end])"
   ]
  },
  {
   "cell_type": "code",
   "execution_count": 14,
   "metadata": {
    "collapsed": true
   },
   "outputs": [],
   "source": [
    "def kfold(k,l2_penalty,data):\n",
    "    trainset=[]\n",
    "    valiset=[]\n",
    "    n=len(data)\n",
    "    for i in range(0,k):\n",
    "        start=(n*i)/k\n",
    "        end=(n*(i+1))/k\n",
    "        valiset.append(train_valid_shuffled[start:end+1])\n",
    "        train=train_valid_shuffled[0:start].append(train_valid_shuffled[end+1:n])\n",
    "        trainset.append(train)\n",
    "    allrss=0.0\n",
    "    for i in range(0,k):\n",
    "        poly15_data=polynomial_dataframe(trainset[i]['sqft_living'], 15)\n",
    "        poly15_data2=polynomial_dataframe(valiset[i]['sqft_living'],15)\n",
    "        model=linear_model.Ridge(alpha=l2_penalty,normalize=True)\n",
    "        model.fit(poly15_data,trainset[i]['price'])\n",
    "        rss=np.sum((valiset[i]['price']-model.predict(poly15_data2))**2)\n",
    "        allrss=allrss+rss\n",
    "    return allrss/k        "
   ]
  },
  {
   "cell_type": "code",
   "execution_count": 26,
   "metadata": {
    "collapsed": false
   },
   "outputs": [
    {
     "name": "stdout",
     "output_type": "stream",
     "text": [
      "1000.0 2.65017874562e+14\n",
      "3162.27766017 2.6573349394e+14\n",
      "10000 2.65964941178e+14\n",
      "31622.7766017 2.66038658207e+14\n",
      "100000 2.66062022668e+14\n",
      "316227.766017 2.6606941648e+14\n",
      "1000000.0 2.66071755142e+14\n",
      "3162277.66017 2.66072494744e+14\n",
      "10000000 2.66072728633e+14\n",
      "31622776.6017 2.66072802595e+14\n",
      "100000000 2.66072825984e+14\n",
      "316227766.017 2.66072833381e+14\n",
      "1000000000 2.6607283572e+14\n"
     ]
    }
   ],
   "source": [
    "for i in [10.0**3,10**3.5,10**4,10**4.5,10**5,10**5.5,10**6.0,10**6.5,10**7,10**7.5,10**8,10**8.5,10**9]:\n",
    "    print i,kfold(10,i,train_valid_shuffled)"
   ]
  },
  {
   "cell_type": "code",
   "execution_count": 16,
   "metadata": {
    "collapsed": false
   },
   "outputs": [
    {
     "name": "stdout",
     "output_type": "stream",
     "text": [
      "Overfitting_Demo_Ridge_Lasso.ipynb     wk3_kc_house_set_3_data.csv\r\n",
      "Untitled.ipynb                         wk3_kc_house_set_4_data.csv\r\n",
      "\u001b[31mkc_house_data.csv\u001b[m\u001b[m*                     \u001b[31mwk3_kc_house_test_data.csv\u001b[m\u001b[m*\r\n",
      "week4_ridgeregression-annotated.pdf    \u001b[31mwk3_kc_house_train_data.csv\u001b[m\u001b[m*\r\n",
      "wk3_kc_house_set_1_data.csv            wk3_kc_house_train_valid_shuffled.csv\r\n",
      "wk3_kc_house_set_2_data.csv            \u001b[31mwk3_kc_house_valid_data.csv\u001b[m\u001b[m*\r\n"
     ]
    }
   ],
   "source": [
    "ls"
   ]
  },
  {
   "cell_type": "code",
   "execution_count": 17,
   "metadata": {
    "collapsed": true
   },
   "outputs": [],
   "source": [
    "alltrain=pd.read_csv('wk3_kc_house_train_data.csv', dtype=dtype_dict)\n",
    "alltest=pd.read_csv('wk3_kc_house_test_data.csv', dtype=dtype_dict)"
   ]
  },
  {
   "cell_type": "code",
   "execution_count": 24,
   "metadata": {
    "collapsed": true
   },
   "outputs": [],
   "source": [
    "l2_penalty=3162.27766017\n",
    "poly15_data=polynomial_dataframe(alltrain['sqft_living'], 15)\n",
    "poly15_data2=polynomial_dataframe(alltest['sqft_living'],15)\n",
    "model=linear_model.Ridge(alpha=l2_penalty,normalize=True)\n",
    "model.fit(poly15_data,alltrain['price'])\n",
    "rss=np.sum((alltest['price']-model.predict(poly15_data2))**2)"
   ]
  },
  {
   "cell_type": "code",
   "execution_count": 25,
   "metadata": {
    "collapsed": false
   },
   "outputs": [
    {
     "data": {
      "text/plain": [
       "284413196489360.4"
      ]
     },
     "execution_count": 25,
     "metadata": {},
     "output_type": "execute_result"
    }
   ],
   "source": [
    "rss"
   ]
  },
  {
   "cell_type": "code",
   "execution_count": null,
   "metadata": {
    "collapsed": true
   },
   "outputs": [],
   "source": []
  }
 ],
 "metadata": {
  "kernelspec": {
   "display_name": "Python 2",
   "language": "python",
   "name": "python2"
  },
  "language_info": {
   "codemirror_mode": {
    "name": "ipython",
    "version": 2
   },
   "file_extension": ".py",
   "mimetype": "text/x-python",
   "name": "python",
   "nbconvert_exporter": "python",
   "pygments_lexer": "ipython2",
   "version": "2.7.10"
  }
 },
 "nbformat": 4,
 "nbformat_minor": 0
}
