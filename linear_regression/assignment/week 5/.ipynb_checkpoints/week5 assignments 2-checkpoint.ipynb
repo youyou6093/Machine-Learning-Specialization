{
 "cells": [
  {
   "cell_type": "code",
   "execution_count": 1,
   "metadata": {
    "collapsed": true
   },
   "outputs": [],
   "source": [
    "import numpy as np\n",
    "import pandas as pd"
   ]
  },
  {
   "cell_type": "code",
   "execution_count": 2,
   "metadata": {
    "collapsed": true
   },
   "outputs": [],
   "source": [
    "dic={'bathrooms':float, 'waterfront':int, 'sqft_above':int, 'sqft_living15':float, 'grade':int, 'yr_renovated':int, 'price':float, 'bedrooms':float, 'zipcode':str, 'long':float, 'sqft_lot15':float, 'sqft_living':float, 'floors':float, 'condition':int, 'lat':float, 'date':str, 'sqft_basement':int, 'yr_built':int, 'id':str, 'sqft_lot':int, 'view':int}"
   ]
  },
  {
   "cell_type": "code",
   "execution_count": 3,
   "metadata": {
    "collapsed": false
   },
   "outputs": [
    {
     "name": "stdout",
     "output_type": "stream",
     "text": [
      "Overfitting_Demo_Ridge_Lasso.ipynb  week5 assignments 2.ipynb\r\n",
      "\u001b[31mkc_house_data.csv\u001b[m\u001b[m*                  \u001b[31mwk3_kc_house_test_data.csv\u001b[m\u001b[m*\r\n",
      "\u001b[31mkc_house_test_data.csv\u001b[m\u001b[m*             \u001b[31mwk3_kc_house_train_data.csv\u001b[m\u001b[m*\r\n",
      "\u001b[31mkc_house_train_data.csv\u001b[m\u001b[m*            \u001b[31mwk3_kc_house_valid_data.csv\u001b[m\u001b[m*\r\n",
      "week5 assignments 1.ipynb\r\n"
     ]
    }
   ],
   "source": [
    "ls"
   ]
  },
  {
   "cell_type": "code",
   "execution_count": 4,
   "metadata": {
    "collapsed": false
   },
   "outputs": [],
   "source": [
    "alldata=pd.read_csv('kc_house_data.csv',dtype=dic)\n",
    "train=pd.read_csv('kc_house_train_data.csv',dtype=dic)\n",
    "test=pd.read_csv('kc_house_test_data.csv',dtype=dic)"
   ]
  },
  {
   "cell_type": "code",
   "execution_count": 5,
   "metadata": {
    "collapsed": true
   },
   "outputs": [],
   "source": [
    "def get_numpy_data(data,features,output):\n",
    "    data['constant'] = 1\n",
    "    features = ['constant'] + features\n",
    "    featuredata=data[features]\n",
    "    features_matrix=featuredata.values\n",
    "    outdata=data[output]\n",
    "    output_array =outdata.values\n",
    "    return(features_matrix, output_array)"
   ]
  },
  {
   "cell_type": "code",
   "execution_count": 6,
   "metadata": {
    "collapsed": true
   },
   "outputs": [],
   "source": [
    "def predict_output(feature_matrix, weights):               # predict outcomes\n",
    "    predictions=np.dot(feature_matrix, weights)\n",
    "    return predictions"
   ]
  },
  {
   "cell_type": "code",
   "execution_count": 7,
   "metadata": {
    "collapsed": true
   },
   "outputs": [],
   "source": [
    "def normalize_features(features):\n",
    "    norms=np.linalg.norm(features,axis=0)\n",
    "    normalized_features=features/norms\n",
    "    return (normalized_features, norms)"
   ]
  },
  {
   "cell_type": "code",
   "execution_count": 8,
   "metadata": {
    "collapsed": true
   },
   "outputs": [],
   "source": [
    "iniw=np.array([1.,4.,1.])\n",
    "fe=['sqft_living','bedrooms']\n",
    "ou='price'\n",
    "(fema,output)=get_numpy_data(alldata,fe,ou)\n",
    "feman=normalize_features(fema)[0]\n",
    "predict=predict_output(feman,iniw)"
   ]
  },
  {
   "cell_type": "code",
   "execution_count": 9,
   "metadata": {
    "collapsed": false
   },
   "outputs": [
    {
     "data": {
      "text/plain": [
       "175878941.64650351"
      ]
     },
     "execution_count": 9,
     "metadata": {},
     "output_type": "execute_result"
    }
   ],
   "source": [
    "ro=np.dot(feman[:,1],output-predict+iniw[1]*feman[:,1])\n",
    "ro*2"
   ]
  },
  {
   "cell_type": "code",
   "execution_count": 10,
   "metadata": {
    "collapsed": false
   },
   "outputs": [
    {
     "data": {
      "text/plain": [
       "161933397.33247894"
      ]
     },
     "execution_count": 10,
     "metadata": {},
     "output_type": "execute_result"
    }
   ],
   "source": [
    "ro=np.dot(feman[:,2],output-predict+iniw[2]*feman[:,2])\n",
    "ro*2"
   ]
  },
  {
   "cell_type": "code",
   "execution_count": 11,
   "metadata": {
    "collapsed": true
   },
   "outputs": [],
   "source": [
    "def lasso_coordinate_descent_step(i, feature_matrix, output, weights, l1_penalty):\n",
    "    # compute prediction\n",
    "    prediction =predict_output(feature_matrix, weights)\n",
    "    # compute ro[i] = SUM[ [feature_i]*(output - prediction + weight[i]*[feature_i]) ]\n",
    "    ro_i = np.dot(feature_matrix[:,i],output-prediction+weights[i]*feature_matrix[:,i])\n",
    "    #print ro_i\n",
    "    # this is very important: if i want i column,choose feature_matrix[:,i]\n",
    "    if i == 0: # intercept -- do not regularize\n",
    "        new_weight_i = ro_i\n",
    "    elif ro_i < -l1_penalty/2.:\n",
    "        new_weight_i = ro_i+l1_penalty/2.\n",
    "    elif ro_i > l1_penalty/2.:\n",
    "        new_weight_i = ro_i-l1_penalty/2.\n",
    "    else:\n",
    "        new_weight_i = 0.    \n",
    "    return new_weight_i"
   ]
  },
  {
   "cell_type": "code",
   "execution_count": 12,
   "metadata": {
    "collapsed": false
   },
   "outputs": [
    {
     "name": "stdout",
     "output_type": "stream",
     "text": [
      "0.425558846691\n"
     ]
    }
   ],
   "source": [
    "# should print 0.425558846691\n",
    "import math\n",
    "print lasso_coordinate_descent_step(1, np.array([[3./math.sqrt(13),1./math.sqrt(10)],\n",
    "                   [2./math.sqrt(13),3./math.sqrt(10)]]), np.array([1., 1.]), np.array([1., 4.]), 0.1)"
   ]
  },
  {
   "cell_type": "code",
   "execution_count": 13,
   "metadata": {
    "collapsed": false
   },
   "outputs": [],
   "source": [
    "def lasso_cyclical_coordinate_descent(feature_matrix, output, initial_weights, l1_penalty, tolerance):\n",
    "    converge=False\n",
    "    weights=np.array(initial_weights)\n",
    "    while converge==False:\n",
    "        diff=[]\n",
    "        for i in range(0,len(weights)):\n",
    "            a=lasso_coordinate_descent_step(i,feature_matrix,output,weights,l1_penalty)\n",
    "            diff.append(abs(a-weights[i]))\n",
    "            weights[i]=a\n",
    "        ll=np.array(diff)\n",
    "        if (ll.max()<tol):\n",
    "            converge=True\n",
    "        #print weights\n",
    "    return weights"
   ]
  },
  {
   "cell_type": "markdown",
   "metadata": {},
   "source": [
    "### 1"
   ]
  },
  {
   "cell_type": "code",
   "execution_count": 14,
   "metadata": {
    "collapsed": false
   },
   "outputs": [],
   "source": [
    "fe1=['sqft_living','bedrooms']\n",
    "ou1='price'\n",
    "(fema1,output1)=get_numpy_data(train,fe1,ou1)"
   ]
  },
  {
   "cell_type": "code",
   "execution_count": 15,
   "metadata": {
    "collapsed": false
   },
   "outputs": [
    {
     "data": {
      "text/plain": [
       "array([ 1.,  1.,  1., ...,  1.,  1.,  1.])"
      ]
     },
     "execution_count": 15,
     "metadata": {},
     "output_type": "execute_result"
    }
   ],
   "source": [
    "fema[:,0]"
   ]
  },
  {
   "cell_type": "code",
   "execution_count": 16,
   "metadata": {
    "collapsed": false
   },
   "outputs": [],
   "source": [
    "(feman1,norm1)=normalize_features(fema)"
   ]
  },
  {
   "cell_type": "code",
   "execution_count": 17,
   "metadata": {
    "collapsed": true
   },
   "outputs": [],
   "source": [
    "weights=np.array([0.,0.,0.])\n",
    "l1=1e7\n",
    "tol=1.0"
   ]
  },
  {
   "cell_type": "code",
   "execution_count": 18,
   "metadata": {
    "collapsed": false
   },
   "outputs": [],
   "source": [
    "we1=lasso_cyclical_coordinate_descent(feman1, output, weights, l1, tol)"
   ]
  },
  {
   "cell_type": "code",
   "execution_count": 19,
   "metadata": {
    "collapsed": false
   },
   "outputs": [
    {
     "data": {
      "text/plain": [
       "1630492476715387.0"
      ]
     },
     "execution_count": 19,
     "metadata": {},
     "output_type": "execute_result"
    }
   ],
   "source": [
    "np.sum((output-predict_output(feman,we1))**2)"
   ]
  },
  {
   "cell_type": "markdown",
   "metadata": {
    "collapsed": true
   },
   "source": [
    "## 2"
   ]
  },
  {
   "cell_type": "code",
   "execution_count": 20,
   "metadata": {
    "collapsed": true
   },
   "outputs": [],
   "source": [
    "fe2=['bedrooms', 'bathrooms','sqft_living', 'sqft_lot', 'floors', 'waterfront', 'view', 'condition', 'grade', 'sqft_above', 'sqft_basement','yr_built', 'yr_renovated'\n",
    "]\n",
    "ou2='price'"
   ]
  },
  {
   "cell_type": "code",
   "execution_count": 21,
   "metadata": {
    "collapsed": false
   },
   "outputs": [],
   "source": [
    "(fema2,output2)=get_numpy_data(train,fe2,ou2)"
   ]
  },
  {
   "cell_type": "code",
   "execution_count": 22,
   "metadata": {
    "collapsed": false
   },
   "outputs": [
    {
     "data": {
      "text/plain": [
       "array([ 1.,  1.,  1., ...,  1.,  1.,  1.])"
      ]
     },
     "execution_count": 22,
     "metadata": {},
     "output_type": "execute_result"
    }
   ],
   "source": [
    "fema2[:,0]"
   ]
  },
  {
   "cell_type": "code",
   "execution_count": 23,
   "metadata": {
    "collapsed": false
   },
   "outputs": [],
   "source": [
    "(feman2,norm2)=normalize_features(fema2)"
   ]
  },
  {
   "cell_type": "code",
   "execution_count": 24,
   "metadata": {
    "collapsed": false
   },
   "outputs": [
    {
     "data": {
      "text/plain": [
       "array([[ 0.00758447,  0.00652117,  0.0033687 , ...,  0.        ,\n",
       "         0.00752148,  0.        ],\n",
       "       [ 0.00758447,  0.00652117,  0.00757957, ...,  0.0057043 ,\n",
       "         0.0075061 ,  0.03707954],\n",
       "       [ 0.00758447,  0.00434745,  0.0033687 , ...,  0.        ,\n",
       "         0.00743684,  0.        ],\n",
       "       ..., \n",
       "       [ 0.00758447,  0.00652117,  0.00842175, ...,  0.        ,\n",
       "         0.00772924,  0.        ],\n",
       "       [ 0.00758447,  0.00652117,  0.00842175, ...,  0.        ,\n",
       "         0.00771   ,  0.        ],\n",
       "       [ 0.00758447,  0.00434745,  0.00252652, ...,  0.        ,\n",
       "         0.00772539,  0.        ]])"
      ]
     },
     "execution_count": 24,
     "metadata": {},
     "output_type": "execute_result"
    }
   ],
   "source": [
    "feman2"
   ]
  },
  {
   "cell_type": "code",
   "execution_count": 25,
   "metadata": {
    "collapsed": false
   },
   "outputs": [],
   "source": [
    "we=np.linspace(0.0,0.0,14)\n",
    "l1=1e7\n",
    "tol=1.0\n",
    "we1e7=lasso_cyclical_coordinate_descent(feman2, output2, we, l1, tol)"
   ]
  },
  {
   "cell_type": "code",
   "execution_count": 26,
   "metadata": {
    "collapsed": false
   },
   "outputs": [],
   "source": [
    "we=np.linspace(0.0,0.0,14)\n",
    "l1=1e8\n",
    "tol=1.0\n",
    "we1e8=lasso_cyclical_coordinate_descent(feman2, output2, we, l1, tol)"
   ]
  },
  {
   "cell_type": "code",
   "execution_count": 27,
   "metadata": {
    "collapsed": false
   },
   "outputs": [],
   "source": [
    "we=np.linspace(0.0,0.0,14)\n",
    "l1=1e4\n",
    "tol=5e5\n",
    "we1e4=lasso_cyclical_coordinate_descent(feman2, output2, we, l1, tol)"
   ]
  },
  {
   "cell_type": "code",
   "execution_count": 28,
   "metadata": {
    "collapsed": false
   },
   "outputs": [],
   "source": [
    "fex=['in']+fe2"
   ]
  },
  {
   "cell_type": "code",
   "execution_count": 29,
   "metadata": {
    "collapsed": false
   },
   "outputs": [
    {
     "name": "stdout",
     "output_type": "stream",
     "text": [
      "in\n",
      "sqft_living\n",
      "waterfront\n",
      "view\n"
     ]
    }
   ],
   "source": [
    "for i in range(0,len(fex)):\n",
    "    if( we1e7[i]!=0):\n",
    "        print fex[i]"
   ]
  },
  {
   "cell_type": "code",
   "execution_count": 30,
   "metadata": {
    "collapsed": false
   },
   "outputs": [
    {
     "name": "stdout",
     "output_type": "stream",
     "text": [
      "in\n"
     ]
    }
   ],
   "source": [
    "for i in range(0,len(fex)):\n",
    "    if( we1e8[i]!=0):\n",
    "        print fex[i]"
   ]
  },
  {
   "cell_type": "code",
   "execution_count": 31,
   "metadata": {
    "collapsed": false
   },
   "outputs": [
    {
     "name": "stdout",
     "output_type": "stream",
     "text": [
      "in\n",
      "bedrooms\n",
      "bathrooms\n",
      "sqft_living\n",
      "sqft_lot\n",
      "floors\n",
      "waterfront\n",
      "view\n",
      "condition\n",
      "grade\n",
      "sqft_above\n",
      "sqft_basement\n",
      "yr_built\n",
      "yr_renovated\n"
     ]
    }
   ],
   "source": [
    "for i in range(0,len(fex)):\n",
    "    if( we1e4[i]!=0):\n",
    "        print fex[i]"
   ]
  },
  {
   "cell_type": "code",
   "execution_count": 33,
   "metadata": {
    "collapsed": true
   },
   "outputs": [],
   "source": [
    "we1=we1e7/norm2\n",
    "we2=we1e8/norm2\n",
    "we3=we1e4/norm2\n",
    "\n",
    "## very important, need to correct our coeffs"
   ]
  },
  {
   "cell_type": "code",
   "execution_count": 34,
   "metadata": {
    "collapsed": true
   },
   "outputs": [],
   "source": [
    "fe=['sqft_living','bedrooms']\n",
    "ou='price'\n",
    "(fema,output)=get_numpy_data(test,fe,ou)"
   ]
  },
  {
   "cell_type": "code",
   "execution_count": 35,
   "metadata": {
    "collapsed": true
   },
   "outputs": [],
   "source": [
    "fe2=['bedrooms', 'bathrooms','sqft_living', 'sqft_lot', 'floors', 'waterfront', 'view', 'condition', 'grade', 'sqft_above', 'sqft_basement','yr_built', 'yr_renovated'\n",
    "]\n",
    "ou2='price'\n",
    "(fema2,output2)=get_numpy_data(test,fe2,ou2)"
   ]
  },
  {
   "cell_type": "code",
   "execution_count": 36,
   "metadata": {
    "collapsed": true
   },
   "outputs": [],
   "source": [
    "rss1=np.sum((output2-predict_output(fema2,we1))**2)\n",
    "rss2=np.sum((output2-predict_output(fema2,we2))**2)\n",
    "rss3=np.sum((output2-predict_output(fema2,we3))**2)"
   ]
  },
  {
   "cell_type": "code",
   "execution_count": 37,
   "metadata": {
    "collapsed": false
   },
   "outputs": [
    {
     "name": "stdout",
     "output_type": "stream",
     "text": [
      "2.7596207592e+14 5.37166151497e+14 2.28459958971e+14\n"
     ]
    }
   ],
   "source": [
    "print rss1,rss2,rss3"
   ]
  },
  {
   "cell_type": "code",
   "execution_count": null,
   "metadata": {
    "collapsed": true
   },
   "outputs": [],
   "source": []
  },
  {
   "cell_type": "code",
   "execution_count": null,
   "metadata": {
    "collapsed": true
   },
   "outputs": [],
   "source": []
  }
 ],
 "metadata": {
  "kernelspec": {
   "display_name": "Python 2",
   "language": "python",
   "name": "python2"
  },
  "language_info": {
   "codemirror_mode": {
    "name": "ipython",
    "version": 2
   },
   "file_extension": ".py",
   "mimetype": "text/x-python",
   "name": "python",
   "nbconvert_exporter": "python",
   "pygments_lexer": "ipython2",
   "version": "2.7.10"
  }
 },
 "nbformat": 4,
 "nbformat_minor": 0
}
