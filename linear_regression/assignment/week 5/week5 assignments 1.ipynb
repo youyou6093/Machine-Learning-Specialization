{
 "cells": [
  {
   "cell_type": "code",
   "execution_count": 1,
   "metadata": {
    "collapsed": true
   },
   "outputs": [],
   "source": [
    "import numpy as np\n",
    "import pandas as pd"
   ]
  },
  {
   "cell_type": "code",
   "execution_count": 2,
   "metadata": {
    "collapsed": true
   },
   "outputs": [],
   "source": [
    "dic=dtype_dict = {'bathrooms':float, 'waterfront':int, 'sqft_above':int, 'sqft_living15':float, 'grade':int, 'yr_renovated':int, 'price':float, 'bedrooms':float, 'zipcode':str, 'long':float, 'sqft_lot15':float, 'sqft_living':float, 'floors':float, 'condition':int, 'lat':float, 'date':str, 'sqft_basement':int, 'yr_built':int, 'id':str, 'sqft_lot':int, 'view':int}"
   ]
  },
  {
   "cell_type": "code",
   "execution_count": 3,
   "metadata": {
    "collapsed": false
   },
   "outputs": [
    {
     "name": "stdout",
     "output_type": "stream",
     "text": [
      "Overfitting_Demo_Ridge_Lasso.ipynb  \u001b[31mwk3_kc_house_test_data.csv\u001b[m\u001b[m*\r\n",
      "Untitled.ipynb                      \u001b[31mwk3_kc_house_train_data.csv\u001b[m\u001b[m*\r\n",
      "\u001b[31mkc_house_data.csv\u001b[m\u001b[m*                  \u001b[31mwk3_kc_house_valid_data.csv\u001b[m\u001b[m*\r\n"
     ]
    }
   ],
   "source": [
    "ls"
   ]
  },
  {
   "cell_type": "code",
   "execution_count": 4,
   "metadata": {
    "collapsed": true
   },
   "outputs": [],
   "source": [
    "sales=pd.read_csv('kc_house_data.csv',dtype=dic)"
   ]
  },
  {
   "cell_type": "code",
   "execution_count": 5,
   "metadata": {
    "collapsed": true
   },
   "outputs": [],
   "source": [
    "from math import log, sqrt\n",
    "sales['sqft_living_sqrt'] = sales['sqft_living'].apply(sqrt)\n",
    "sales['sqft_lot_sqrt'] = sales['sqft_lot'].apply(sqrt)\n",
    "sales['bedrooms_square'] = sales['bedrooms']*sales['bedrooms']\n",
    "sales['floors_square'] = sales['floors']*sales['floors']"
   ]
  },
  {
   "cell_type": "code",
   "execution_count": 6,
   "metadata": {
    "collapsed": false
   },
   "outputs": [
    {
     "data": {
      "text/plain": [
       "Index([u'id', u'date', u'price', u'bedrooms', u'bathrooms', u'sqft_living',\n",
       "       u'sqft_lot', u'floors', u'waterfront', u'view', u'condition', u'grade',\n",
       "       u'sqft_above', u'sqft_basement', u'yr_built', u'yr_renovated',\n",
       "       u'zipcode', u'lat', u'long', u'sqft_living15', u'sqft_lot15',\n",
       "       u'sqft_living_sqrt', u'sqft_lot_sqrt', u'bedrooms_square',\n",
       "       u'floors_square'],\n",
       "      dtype='object')"
      ]
     },
     "execution_count": 6,
     "metadata": {},
     "output_type": "execute_result"
    }
   ],
   "source": [
    "sales.columns"
   ]
  },
  {
   "cell_type": "code",
   "execution_count": 7,
   "metadata": {
    "collapsed": false
   },
   "outputs": [],
   "source": [
    "from sklearn import linear_model"
   ]
  },
  {
   "cell_type": "code",
   "execution_count": 8,
   "metadata": {
    "collapsed": false
   },
   "outputs": [
    {
     "data": {
      "text/plain": [
       "Lasso(alpha=500.0, copy_X=True, fit_intercept=True, max_iter=1000,\n",
       "   normalize=True, positive=False, precompute=False, random_state=None,\n",
       "   selection='cyclic', tol=0.0001, warm_start=False)"
      ]
     },
     "execution_count": 8,
     "metadata": {},
     "output_type": "execute_result"
    }
   ],
   "source": [
    "all_features = ['bedrooms', 'bedrooms_square',\n",
    "            'bathrooms',\n",
    "            'sqft_living', 'sqft_living_sqrt',\n",
    "            'sqft_lot', 'sqft_lot_sqrt',\n",
    "            'floors', 'floors_square',\n",
    "            'waterfront', 'view', 'condition', 'grade',\n",
    "            'sqft_above',\n",
    "            'sqft_basement',\n",
    "            'yr_built', 'yr_renovated']\n",
    "\n",
    "model_all = linear_model.Lasso(alpha=5e2, normalize=True) # set parameters\n",
    "model_all.fit(sales[all_features], sales['price']) # learn weights"
   ]
  },
  {
   "cell_type": "code",
   "execution_count": 9,
   "metadata": {
    "collapsed": false
   },
   "outputs": [
    {
     "data": {
      "text/plain": [
       "-218136.21403515909"
      ]
     },
     "execution_count": 9,
     "metadata": {},
     "output_type": "execute_result"
    }
   ],
   "source": [
    "model_all.intercept_"
   ]
  },
  {
   "cell_type": "code",
   "execution_count": 10,
   "metadata": {
    "collapsed": false
   },
   "outputs": [
    {
     "data": {
      "text/plain": [
       "array([     0.        ,      0.        ,      0.        ,    134.43931396,\n",
       "            0.        ,      0.        ,      0.        ,      0.        ,\n",
       "            0.        ,      0.        ,  24750.00458561,      0.        ,\n",
       "        61749.10309071,      0.        ,      0.        ,     -0.        ,\n",
       "            0.        ])"
      ]
     },
     "execution_count": 10,
     "metadata": {},
     "output_type": "execute_result"
    }
   ],
   "source": [
    "model_all.coef_"
   ]
  },
  {
   "cell_type": "markdown",
   "metadata": {},
   "source": [
    "## sqft_living view grade"
   ]
  },
  {
   "cell_type": "code",
   "execution_count": 11,
   "metadata": {
    "collapsed": true
   },
   "outputs": [],
   "source": [
    "testing = pd.read_csv('wk3_kc_house_test_data.csv', dtype=dtype_dict)\n",
    "training = pd.read_csv('wk3_kc_house_train_data.csv', dtype=dtype_dict)\n",
    "validation = pd.read_csv('wk3_kc_house_valid_data.csv', dtype=dtype_dict)"
   ]
  },
  {
   "cell_type": "code",
   "execution_count": 12,
   "metadata": {
    "collapsed": true
   },
   "outputs": [],
   "source": [
    "testing['sqft_living_sqrt'] = testing['sqft_living'].apply(sqrt)\n",
    "testing['sqft_lot_sqrt'] = testing['sqft_lot'].apply(sqrt)\n",
    "testing['bedrooms_square'] = testing['bedrooms']*testing['bedrooms']\n",
    "testing['floors_square'] = testing['floors']*testing['floors']\n",
    "\n",
    "training['sqft_living_sqrt'] = training['sqft_living'].apply(sqrt)\n",
    "training['sqft_lot_sqrt'] = training['sqft_lot'].apply(sqrt)\n",
    "training['bedrooms_square'] = training['bedrooms']*training['bedrooms']\n",
    "training['floors_square'] = training['floors']*training['floors']\n",
    "\n",
    "validation['sqft_living_sqrt'] = validation['sqft_living'].apply(sqrt)\n",
    "validation['sqft_lot_sqrt'] = validation['sqft_lot'].apply(sqrt)\n",
    "validation['bedrooms_square'] = validation['bedrooms']*validation['bedrooms']\n",
    "validation['floors_square'] = validation['floors']*validation['floors']"
   ]
  },
  {
   "cell_type": "code",
   "execution_count": 13,
   "metadata": {
    "collapsed": false
   },
   "outputs": [],
   "source": [
    "penaltya=np.logspace(1, 7, num=13)"
   ]
  },
  {
   "cell_type": "code",
   "execution_count": 14,
   "metadata": {
    "collapsed": false
   },
   "outputs": [],
   "source": [
    "penaltya=penaltya.tolist()\n"
   ]
  },
  {
   "cell_type": "code",
   "execution_count": 15,
   "metadata": {
    "collapsed": false
   },
   "outputs": [
    {
     "data": {
      "text/plain": [
       "[10.0,\n",
       " 31.622776601683793,\n",
       " 100.0,\n",
       " 316.22776601683796,\n",
       " 1000.0,\n",
       " 3162.2776601683795,\n",
       " 10000.0,\n",
       " 31622.776601683792,\n",
       " 100000.0,\n",
       " 316227.7660168379,\n",
       " 1000000.0,\n",
       " 3162277.6601683795,\n",
       " 10000000.0]"
      ]
     },
     "execution_count": 15,
     "metadata": {},
     "output_type": "execute_result"
    }
   ],
   "source": [
    "penaltya"
   ]
  },
  {
   "cell_type": "code",
   "execution_count": 16,
   "metadata": {
    "collapsed": true
   },
   "outputs": [],
   "source": [
    "all_features = ['bedrooms', 'bedrooms_square',\n",
    "            'bathrooms',\n",
    "            'sqft_living', 'sqft_living_sqrt',\n",
    "            'sqft_lot', 'sqft_lot_sqrt',\n",
    "            'floors', 'floors_square',\n",
    "            'waterfront', 'view', 'condition', 'grade',\n",
    "            'sqft_above',\n",
    "            'sqft_basement',\n",
    "            'yr_built', 'yr_renovated']"
   ]
  },
  {
   "cell_type": "code",
   "execution_count": 17,
   "metadata": {
    "collapsed": false
   },
   "outputs": [
    {
     "name": "stdout",
     "output_type": "stream",
     "text": [
      "3.982133273e+14\n",
      "3.99041900253e+14\n",
      "4.29791604073e+14\n",
      "4.63739831045e+14\n",
      "6.45898733634e+14\n",
      "1.22250685943e+15\n",
      "1.22250685943e+15\n",
      "1.22250685943e+15\n",
      "1.22250685943e+15\n",
      "1.22250685943e+15\n",
      "1.22250685943e+15\n",
      "1.22250685943e+15\n",
      "1.22250685943e+15\n"
     ]
    }
   ],
   "source": [
    "rssa=[]\n",
    "for i in penaltya:\n",
    "    model=linear_model.Lasso(alpha=i,normalize=True)\n",
    "    model.fit(training[all_features], training['price'])\n",
    "    rss=np.sum((model.predict(validation[all_features])-validation['price'])**2)\n",
    "    print rss\n",
    "    rssa.append(rss)"
   ]
  },
  {
   "cell_type": "code",
   "execution_count": 18,
   "metadata": {
    "collapsed": false
   },
   "outputs": [
    {
     "data": {
      "text/plain": [
       "Lasso(alpha=10, copy_X=True, fit_intercept=True, max_iter=1000,\n",
       "   normalize=True, positive=False, precompute=False, random_state=None,\n",
       "   selection='cyclic', tol=0.0001, warm_start=False)"
      ]
     },
     "execution_count": 18,
     "metadata": {},
     "output_type": "execute_result"
    }
   ],
   "source": [
    "model=linear_model.Lasso(alpha=10,normalize=True)\n",
    "model.fit(training[all_features], training['price'])"
   ]
  },
  {
   "cell_type": "markdown",
   "metadata": {},
   "source": [
    "## 10"
   ]
  },
  {
   "cell_type": "code",
   "execution_count": 19,
   "metadata": {
    "collapsed": false
   },
   "outputs": [
    {
     "data": {
      "text/plain": [
       "15"
      ]
     },
     "execution_count": 19,
     "metadata": {},
     "output_type": "execute_result"
    }
   ],
   "source": [
    "np.count_nonzero(model.coef_) + np.count_nonzero(model.intercept_)"
   ]
  },
  {
   "cell_type": "code",
   "execution_count": 20,
   "metadata": {
    "collapsed": false
   },
   "outputs": [
    {
     "data": {
      "text/plain": [
       "array([ -1.61445628e+04,   3.73245384e+02,   5.08412433e+04,\n",
       "         6.17853560e+02,  -4.44113549e+04,   7.85623065e-01,\n",
       "        -7.01194765e+02,  -0.00000000e+00,   5.01420046e+03,\n",
       "         6.19488752e+05,   3.80418557e+04,   2.49987718e+04,\n",
       "         1.28716235e+05,   0.00000000e+00,   0.00000000e+00,\n",
       "        -3.29383118e+03,   1.00573209e+01])"
      ]
     },
     "execution_count": 20,
     "metadata": {},
     "output_type": "execute_result"
    }
   ],
   "source": [
    "model.coef_"
   ]
  },
  {
   "cell_type": "code",
   "execution_count": 22,
   "metadata": {
    "collapsed": false
   },
   "outputs": [
    {
     "name": "stdout",
     "output_type": "stream",
     "text": [
      "10.0 15\n",
      "14.3844988829 15\n",
      "20.6913808111 15\n",
      "29.7635144163 15\n",
      "42.8133239872 13\n",
      "61.5848211066 12\n",
      "88.586679041 11\n",
      "127.42749857 10\n",
      "183.298071083 7\n",
      "263.665089873 6\n",
      "379.269019073 6\n",
      "545.559478117 6\n",
      "784.759970351 5\n",
      "1128.83789168 3\n",
      "1623.77673919 3\n",
      "2335.72146909 2\n",
      "3359.81828628 1\n",
      "4832.93023857 1\n",
      "6951.92796178 1\n",
      "10000.0 1\n"
     ]
    }
   ],
   "source": [
    "for i in np.logspace(1, 4, num=20):\n",
    "    model=linear_model.Lasso(alpha=i,normalize=True)\n",
    "    model.fit(training[all_features], training['price'])\n",
    "    a=np.count_nonzero(model.coef_) + np.count_nonzero(model.intercept_)\n",
    "    print i,a\n",
    "    rss=np.sum((model.predict(validation[all_features])-validation['price'])**2)\n",
    "    #print rss\n",
    "    rssa.append(rss)"
   ]
  },
  {
   "cell_type": "code",
   "execution_count": 23,
   "metadata": {
    "collapsed": true
   },
   "outputs": [],
   "source": [
    "max1=263.665089873\n",
    "min1=127.42749857"
   ]
  },
  {
   "cell_type": "code",
   "execution_count": 24,
   "metadata": {
    "collapsed": true
   },
   "outputs": [],
   "source": [
    "rssa=[]\n",
    "for i in np.linspace(min1,max1,20):\n",
    "    model=linear_model.Lasso(alpha=i,normalize=True)\n",
    "    model.fit(training[all_features], training['price'])\n",
    "    a=np.count_nonzero(model.coef_) + np.count_nonzero(model.intercept_)\n",
    "    #print i,a\n",
    "    rss=np.sum((model.predict(validation[all_features])-validation['price'])**2)\n",
    "    #print rss\n",
    "    if a==7:\n",
    "        rssa.append((a,i,rss))"
   ]
  },
  {
   "cell_type": "code",
   "execution_count": 25,
   "metadata": {
    "collapsed": false
   },
   "outputs": [
    {
     "data": {
      "text/plain": [
       "[(7, 156.10909673905263, 440037365263289.94),\n",
       " (7, 163.2794962813158, 440777489641579.0),\n",
       " (7, 170.44989582357894, 441566698090113.8),\n",
       " (7, 177.62029536584211, 442406413188640.44),\n",
       " (7, 184.79069490810525, 443296716874289.7),\n",
       " (7, 191.96109445036842, 444239780526117.6),\n",
       " (7, 199.13149399263159, 445230739842591.3)]"
      ]
     },
     "execution_count": 25,
     "metadata": {},
     "output_type": "execute_result"
    }
   ],
   "source": [
    "sorted(rssa, key=lambda x: x[2])"
   ]
  },
  {
   "cell_type": "code",
   "execution_count": 26,
   "metadata": {
    "collapsed": false
   },
   "outputs": [
    {
     "data": {
      "text/plain": [
       "Lasso(alpha=156.10909673905263, copy_X=True, fit_intercept=True,\n",
       "   max_iter=1000, normalize=True, positive=False, precompute=False,\n",
       "   random_state=None, selection='cyclic', tol=0.0001, warm_start=False)"
      ]
     },
     "execution_count": 26,
     "metadata": {},
     "output_type": "execute_result"
    }
   ],
   "source": [
    "model=linear_model.Lasso(alpha=rssa[0][1],normalize=True)\n",
    "model.fit(training[all_features], training['price'])"
   ]
  },
  {
   "cell_type": "code",
   "execution_count": 27,
   "metadata": {
    "collapsed": false
   },
   "outputs": [
    {
     "data": {
      "text/plain": [
       "array([ -0.00000000e+00,  -0.00000000e+00,   1.06108903e+04,\n",
       "         1.63380252e+02,   0.00000000e+00,  -0.00000000e+00,\n",
       "        -0.00000000e+00,   0.00000000e+00,   0.00000000e+00,\n",
       "         5.06451687e+05,   4.19600436e+04,   0.00000000e+00,\n",
       "         1.16253554e+05,   0.00000000e+00,   0.00000000e+00,\n",
       "        -2.61223488e+03,   0.00000000e+00])"
      ]
     },
     "execution_count": 27,
     "metadata": {},
     "output_type": "execute_result"
    }
   ],
   "source": [
    "model.coef_"
   ]
  },
  {
   "cell_type": "code",
   "execution_count": 28,
   "metadata": {
    "collapsed": false
   },
   "outputs": [
    {
     "data": {
      "text/plain": [
       "['bedrooms',\n",
       " 'bedrooms_square',\n",
       " 'bathrooms',\n",
       " 'sqft_living',\n",
       " 'sqft_living_sqrt',\n",
       " 'sqft_lot',\n",
       " 'sqft_lot_sqrt',\n",
       " 'floors',\n",
       " 'floors_square',\n",
       " 'waterfront',\n",
       " 'view',\n",
       " 'condition',\n",
       " 'grade',\n",
       " 'sqft_above',\n",
       " 'sqft_basement',\n",
       " 'yr_built',\n",
       " 'yr_renovated']"
      ]
     },
     "execution_count": 28,
     "metadata": {},
     "output_type": "execute_result"
    }
   ],
   "source": [
    "all_features"
   ]
  },
  {
   "cell_type": "code",
   "execution_count": 29,
   "metadata": {
    "collapsed": false
   },
   "outputs": [
    {
     "name": "stdout",
     "output_type": "stream",
     "text": [
      "bathrooms\n",
      "sqft_living\n",
      "waterfront\n",
      "view\n",
      "grade\n",
      "yr_built\n"
     ]
    }
   ],
   "source": [
    "for i in range(0,len(all_features)):\n",
    "    if( model.coef_[i]!=0):\n",
    "        print all_features[i]"
   ]
  },
  {
   "cell_type": "code",
   "execution_count": null,
   "metadata": {
    "collapsed": true
   },
   "outputs": [],
   "source": []
  }
 ],
 "metadata": {
  "kernelspec": {
   "display_name": "Python 2",
   "language": "python",
   "name": "python2"
  },
  "language_info": {
   "codemirror_mode": {
    "name": "ipython",
    "version": 2
   },
   "file_extension": ".py",
   "mimetype": "text/x-python",
   "name": "python",
   "nbconvert_exporter": "python",
   "pygments_lexer": "ipython2",
   "version": "2.7.10"
  }
 },
 "nbformat": 4,
 "nbformat_minor": 0
}
