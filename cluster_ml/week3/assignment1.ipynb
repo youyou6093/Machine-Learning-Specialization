{
 "cells": [
  {
   "cell_type": "code",
   "execution_count": 1,
   "metadata": {
    "collapsed": false
   },
   "outputs": [
    {
     "name": "stderr",
     "output_type": "stream",
     "text": [
      "[INFO] sframe.cython.cy_server: SFrame v2.1 started. Logging /tmp/sframe_server_1491189292.log\n",
      "INFO:sframe.cython.cy_server:SFrame v2.1 started. Logging /tmp/sframe_server_1491189292.log\n"
     ]
    }
   ],
   "source": [
    "import sframe                                                  # see below for install instruction\n",
    "import matplotlib.pyplot as plt                                # plotting\n",
    "import numpy as np                                             # dense matrices\n",
    "from scipy.sparse import csr_matrix                            # sparse matrices\n",
    "from sklearn.preprocessing import normalize                    # normalizing vectors\n",
    "from sklearn.metrics import pairwise_distances                 # pairwise distances\n",
    "import sys      \n",
    "import os\n",
    "%matplotlib inline"
   ]
  },
  {
   "cell_type": "code",
   "execution_count": 2,
   "metadata": {
    "collapsed": true
   },
   "outputs": [],
   "source": [
    "def load_sparse_csr(filename):\n",
    "    loader = np.load(filename)\n",
    "    data = loader['data']\n",
    "    indices = loader['indices']\n",
    "    indptr = loader['indptr']\n",
    "    shape = loader['shape']\n",
    "\n",
    "    return csr_matrix( (data, indices, indptr), shape)\n",
    "\n",
    "wiki = sframe.SFrame('people_wiki.gl/')\n",
    "tf_idf = load_sparse_csr('people_wiki_tf_idf.npz')\n",
    "map_index_to_word = sframe.SFrame('people_wiki_map_index_to_word.gl/')"
   ]
  },
  {
   "cell_type": "code",
   "execution_count": 3,
   "metadata": {
    "collapsed": true
   },
   "outputs": [],
   "source": [
    "tf_idf = normalize(tf_idf)"
   ]
  },
  {
   "cell_type": "code",
   "execution_count": 4,
   "metadata": {
    "collapsed": true
   },
   "outputs": [],
   "source": [
    "def get_initial_centroids(data, k, seed=None):\n",
    "    '''Randomly choose k data points as initial centroids'''\n",
    "    if seed is not None: # useful for obtaining consistent results\n",
    "        np.random.seed(seed)\n",
    "    n = data.shape[0] # number of data points\n",
    "        \n",
    "    # Pick K indices from range [0, N).\n",
    "    rand_indices = np.random.randint(0, n, k)\n",
    "    \n",
    "    # Keep centroids as dense format, as many entries will be nonzero due to averaging.\n",
    "    # As long as at least one document in a cluster contains a word,\n",
    "    # it will carry a nonzero weight in the TF-IDF vector of the centroid.\n",
    "    centroids = data[rand_indices,:].toarray()\n",
    "    \n",
    "    return centroids"
   ]
  },
  {
   "cell_type": "code",
   "execution_count": 5,
   "metadata": {
    "collapsed": false
   },
   "outputs": [
    {
     "name": "stdout",
     "output_type": "stream",
     "text": [
      "[[ 1.41000789  1.36894636]\n",
      " [ 1.40935215  1.41023886]\n",
      " [ 1.39855967  1.40890299]\n",
      " ..., \n",
      " [ 1.41108296  1.39123646]\n",
      " [ 1.41022804  1.31468652]\n",
      " [ 1.39899784  1.41072448]]\n"
     ]
    }
   ],
   "source": [
    "# Get the TF-IDF vectors for documents 100 through 102.\n",
    "queries = tf_idf[100:102,:]\n",
    "\n",
    "# Compute pairwise distances from every data point to each query vector.\n",
    "dist = pairwise_distances(tf_idf, queries, metric='euclidean')\n",
    "\n",
    "print dist"
   ]
  },
  {
   "cell_type": "code",
   "execution_count": 10,
   "metadata": {
    "collapsed": true
   },
   "outputs": [],
   "source": [
    "distances=pairwise_distances(tf_idf,tf_idf[0:3,:],metric='euclidean')"
   ]
  },
  {
   "cell_type": "code",
   "execution_count": 11,
   "metadata": {
    "collapsed": false
   },
   "outputs": [],
   "source": [
    "dist=distances[430,1]"
   ]
  },
  {
   "cell_type": "code",
   "execution_count": 12,
   "metadata": {
    "collapsed": false
   },
   "outputs": [
    {
     "name": "stdout",
     "output_type": "stream",
     "text": [
      "Pass\n"
     ]
    }
   ],
   "source": [
    "'''Test cell'''\n",
    "if np.allclose(dist, pairwise_distances(tf_idf[430,:], tf_idf[1,:])):\n",
    "    print('Pass')\n",
    "else:\n",
    "    print('Check your code again')"
   ]
  },
  {
   "cell_type": "code",
   "execution_count": 15,
   "metadata": {
    "collapsed": false
   },
   "outputs": [],
   "source": [
    "closest_cluster=distances.argmin(axis=1)"
   ]
  },
  {
   "cell_type": "code",
   "execution_count": 16,
   "metadata": {
    "collapsed": false
   },
   "outputs": [
    {
     "name": "stdout",
     "output_type": "stream",
     "text": [
      "Pass\n"
     ]
    }
   ],
   "source": [
    "reference = [list(row).index(min(row)) for row in distances]\n",
    "if np.allclose(closest_cluster, reference):\n",
    "    print('Pass')\n",
    "else:\n",
    "    print('Check your code again')"
   ]
  },
  {
   "cell_type": "code",
   "execution_count": 17,
   "metadata": {
    "collapsed": true
   },
   "outputs": [],
   "source": [
    "cluster_assignment=closest_cluster"
   ]
  },
  {
   "cell_type": "code",
   "execution_count": 18,
   "metadata": {
    "collapsed": false
   },
   "outputs": [
    {
     "name": "stdout",
     "output_type": "stream",
     "text": [
      "Pass\n"
     ]
    }
   ],
   "source": [
    "if len(cluster_assignment)==59071 and \\\n",
    "   np.array_equal(np.bincount(cluster_assignment), np.array([23061, 10086, 25924])):\n",
    "    print('Pass') # count number of data points for each cluster\n",
    "else:\n",
    "    print('Check your code again.')"
   ]
  },
  {
   "cell_type": "code",
   "execution_count": 26,
   "metadata": {
    "collapsed": true
   },
   "outputs": [],
   "source": [
    "def assign_clusters(data, centroids):\n",
    "    \n",
    "    # Compute distances between each data point and the set of centroids:\n",
    "    # Fill in the blank (RHS only)\n",
    "    distances_from_centroids = pairwise_distances(data,centroids,metric='euclidean')\n",
    "    \n",
    "    # Compute cluster assignments for each data point:\n",
    "    # Fill in the blank (RHS only)\n",
    "    cluster_assignment = distances_from_centroids.argmin(axis=1)\n",
    "    \n",
    "    return cluster_assignment"
   ]
  },
  {
   "cell_type": "code",
   "execution_count": 27,
   "metadata": {
    "collapsed": false
   },
   "outputs": [
    {
     "name": "stdout",
     "output_type": "stream",
     "text": [
      "Pass\n"
     ]
    }
   ],
   "source": [
    "if np.allclose(assign_clusters(tf_idf[0:100:10], tf_idf[0:8:2]), np.array([0, 1, 1, 0, 0, 2, 0, 2, 2, 1])):\n",
    "    print('Pass')\n",
    "else:\n",
    "    print('Check your code again.')"
   ]
  },
  {
   "cell_type": "markdown",
   "metadata": {},
   "source": [
    "# filtering"
   ]
  },
  {
   "cell_type": "code",
   "execution_count": 28,
   "metadata": {
    "collapsed": true
   },
   "outputs": [],
   "source": [
    "data = np.array([[1., 2., 0.],\n",
    "                 [0., 0., 0.],\n",
    "                 [2., 2., 0.]])\n",
    "centroids = np.array([[0.5, 0.5, 0.],\n",
    "                      [0., -0.5, 0.]])"
   ]
  },
  {
   "cell_type": "code",
   "execution_count": 29,
   "metadata": {
    "collapsed": false
   },
   "outputs": [
    {
     "name": "stdout",
     "output_type": "stream",
     "text": [
      "[0 1 0]\n"
     ]
    }
   ],
   "source": [
    "cluster_assignment = assign_clusters(data, centroids)\n",
    "print cluster_assignment   # prints [0 1 0]"
   ]
  },
  {
   "cell_type": "code",
   "execution_count": 30,
   "metadata": {
    "collapsed": false
   },
   "outputs": [
    {
     "name": "stdout",
     "output_type": "stream",
     "text": [
      "[[ 0.  0.  0.]]\n"
     ]
    }
   ],
   "source": [
    "print data[cluster_assignment==1]"
   ]
  },
  {
   "cell_type": "code",
   "execution_count": 31,
   "metadata": {
    "collapsed": false
   },
   "outputs": [
    {
     "name": "stdout",
     "output_type": "stream",
     "text": [
      "[[ 1.  2.  0.]\n",
      " [ 2.  2.  0.]]\n"
     ]
    }
   ],
   "source": [
    "print data[cluster_assignment==0]"
   ]
  },
  {
   "cell_type": "code",
   "execution_count": 32,
   "metadata": {
    "collapsed": false
   },
   "outputs": [
    {
     "name": "stdout",
     "output_type": "stream",
     "text": [
      "[ 1.5  2.   0. ]\n"
     ]
    }
   ],
   "source": [
    "print data[cluster_assignment==0].mean(axis=0)"
   ]
  },
  {
   "cell_type": "code",
   "execution_count": 33,
   "metadata": {
    "collapsed": true
   },
   "outputs": [],
   "source": [
    "def revise_centroids(data, k, cluster_assignment):\n",
    "    new_centroids = []\n",
    "    for i in xrange(k):\n",
    "        # Select all data points that belong to cluster i. Fill in the blank (RHS only)\n",
    "        member_data_points = data[cluster_assignment==i]\n",
    "        # Compute the mean of the data points. Fill in the blank (RHS only)\n",
    "        centroid = member_data_points.mean(axis=0)\n",
    "        \n",
    "        # Convert numpy.matrix type to numpy.ndarray type\n",
    "        centroid = centroid.A1\n",
    "        new_centroids.append(centroid)\n",
    "    new_centroids = np.array(new_centroids)\n",
    "    \n",
    "    return new_centroids"
   ]
  },
  {
   "cell_type": "code",
   "execution_count": 35,
   "metadata": {
    "collapsed": false
   },
   "outputs": [
    {
     "name": "stdout",
     "output_type": "stream",
     "text": [
      "Pass\n"
     ]
    }
   ],
   "source": [
    "result = revise_centroids(tf_idf[0:100:10], 3, np.array([0, 1, 1, 0, 0, 2, 0, 2, 2, 1]))\n",
    "if np.allclose(result[0], np.mean(tf_idf[[0,30,40,60]].toarray(), axis=0)) and \\\n",
    "   np.allclose(result[1], np.mean(tf_idf[[10,20,90]].toarray(), axis=0))   and \\\n",
    "   np.allclose(result[2], np.mean(tf_idf[[50,70,80]].toarray(), axis=0)):\n",
    "    print('Pass')\n",
    "else:\n",
    "    print('Check your code')"
   ]
  },
  {
   "cell_type": "code",
   "execution_count": 61,
   "metadata": {
    "collapsed": true
   },
   "outputs": [],
   "source": [
    "def compute_heterogeneity(data, k, centroids, cluster_assignment):\n",
    "    \n",
    "    heterogeneity = 0.0\n",
    "    for i in xrange(k):\n",
    "        \n",
    "        # Select all data points that belong to cluster i. Fill in the blank (RHS only)\n",
    "        member_data_points = data[cluster_assignment==i, :]\n",
    "        \n",
    "        if member_data_points.shape[0] > 0: # check if i-th cluster is non-empty\n",
    "            # Compute distances from centroid to data points (RHS only)\n",
    "            distances = pairwise_distances(member_data_points, [centroids[i]], metric='euclidean')\n",
    "            squared_distances = distances**2\n",
    "            heterogeneity += np.sum(squared_distances)\n",
    "        \n",
    "    return heterogeneity"
   ]
  },
  {
   "cell_type": "code",
   "execution_count": 41,
   "metadata": {
    "collapsed": false
   },
   "outputs": [],
   "source": [
    "# Fill in the blanks\n",
    "def kmeans(data, k, initial_centroids, maxiter, record_heterogeneity=None, verbose=False):\n",
    "    '''This function runs k-means on given data and initial set of centroids.\n",
    "       maxiter: maximum number of iterations to run.\n",
    "       record_heterogeneity: (optional) a list, to store the history of heterogeneity as function of iterations\n",
    "                             if None, do not store the history.\n",
    "       verbose: if True, print how many data points changed their cluster labels in each iteration'''\n",
    "    centroids = initial_centroids[:]\n",
    "    prev_cluster_assignment = None\n",
    "    \n",
    "    for itr in xrange(maxiter):        \n",
    "        if verbose:\n",
    "            print(itr)\n",
    "        \n",
    "        # 1. Make cluster assignments using nearest centroids\n",
    "        # YOUR CODE HERE\n",
    "        cluster_assignment = assign_clusters(data, centroids)\n",
    "            \n",
    "        # 2. Compute a new centroid for each of the k clusters, averaging all data points assigned to that cluster.\n",
    "        # YOUR CODE HERE\n",
    "        centroids = revise_centroids(data,k,cluster_assignment)\n",
    "            \n",
    "        # Check for convergence: if none of the assignments changed, stop\n",
    "        if prev_cluster_assignment is not None and \\\n",
    "          (prev_cluster_assignment==cluster_assignment).all():\n",
    "            break\n",
    "        \n",
    "        # Print number of new assignments \n",
    "        if prev_cluster_assignment is not None:\n",
    "            num_changed = np.sum(prev_cluster_assignment!=cluster_assignment)\n",
    "            if verbose:\n",
    "                print('    {0:5d} elements changed their cluster assignment.'.format(num_changed))   \n",
    "        \n",
    "        # Record heterogeneity convergence metric\n",
    "        if record_heterogeneity is not None:\n",
    "            # YOUR CODE HERE\n",
    "            score = compute_heterogeneity(data, k, centroids, cluster_assignment)\n",
    "            record_heterogeneity.append(score)\n",
    "        \n",
    "        prev_cluster_assignment = cluster_assignment[:]\n",
    "        \n",
    "    return centroids, cluster_assignment"
   ]
  },
  {
   "cell_type": "code",
   "execution_count": 42,
   "metadata": {
    "collapsed": true
   },
   "outputs": [],
   "source": [
    "def plot_heterogeneity(heterogeneity, k):\n",
    "    plt.figure(figsize=(7,4))\n",
    "    plt.plot(heterogeneity, linewidth=4)\n",
    "    plt.xlabel('# Iterations')\n",
    "    plt.ylabel('Heterogeneity')\n",
    "    plt.title('Heterogeneity of clustering over time, K={0:d}'.format(k))\n",
    "    plt.rcParams.update({'font.size': 16})\n",
    "    plt.tight_layout()"
   ]
  },
  {
   "cell_type": "code",
   "execution_count": 52,
   "metadata": {
    "collapsed": false,
    "scrolled": true
   },
   "outputs": [
    {
     "name": "stdout",
     "output_type": "stream",
     "text": [
      "0\n",
      "1\n",
      "    19157 elements changed their cluster assignment.\n",
      "2\n",
      "     7739 elements changed their cluster assignment.\n",
      "3\n",
      "     5119 elements changed their cluster assignment.\n",
      "4\n",
      "     3370 elements changed their cluster assignment.\n",
      "5\n",
      "     2811 elements changed their cluster assignment.\n",
      "6\n",
      "     3233 elements changed their cluster assignment.\n",
      "7\n",
      "     3815 elements changed their cluster assignment.\n",
      "8\n",
      "     3172 elements changed their cluster assignment.\n",
      "9\n",
      "     1149 elements changed their cluster assignment.\n",
      "10\n",
      "      498 elements changed their cluster assignment.\n",
      "11\n",
      "      265 elements changed their cluster assignment.\n",
      "12\n",
      "      149 elements changed their cluster assignment.\n",
      "13\n",
      "      100 elements changed their cluster assignment.\n",
      "14\n",
      "       76 elements changed their cluster assignment.\n",
      "15\n",
      "       67 elements changed their cluster assignment.\n",
      "16\n",
      "       51 elements changed their cluster assignment.\n",
      "17\n",
      "       47 elements changed their cluster assignment.\n",
      "18\n",
      "       40 elements changed their cluster assignment.\n",
      "19\n",
      "       34 elements changed their cluster assignment.\n",
      "20\n",
      "       35 elements changed their cluster assignment.\n",
      "21\n",
      "       39 elements changed their cluster assignment.\n",
      "22\n",
      "       24 elements changed their cluster assignment.\n",
      "23\n",
      "       16 elements changed their cluster assignment.\n",
      "24\n",
      "       12 elements changed their cluster assignment.\n",
      "25\n",
      "       14 elements changed their cluster assignment.\n",
      "26\n",
      "       17 elements changed their cluster assignment.\n",
      "27\n",
      "       15 elements changed their cluster assignment.\n",
      "28\n",
      "       14 elements changed their cluster assignment.\n",
      "29\n",
      "       16 elements changed their cluster assignment.\n",
      "30\n",
      "       21 elements changed their cluster assignment.\n",
      "31\n",
      "       22 elements changed their cluster assignment.\n",
      "32\n",
      "       33 elements changed their cluster assignment.\n",
      "33\n",
      "       35 elements changed their cluster assignment.\n",
      "34\n",
      "       39 elements changed their cluster assignment.\n",
      "35\n",
      "       36 elements changed their cluster assignment.\n",
      "36\n",
      "       36 elements changed their cluster assignment.\n",
      "37\n",
      "       25 elements changed their cluster assignment.\n",
      "38\n",
      "       27 elements changed their cluster assignment.\n",
      "39\n",
      "       25 elements changed their cluster assignment.\n",
      "40\n",
      "       28 elements changed their cluster assignment.\n",
      "41\n",
      "       35 elements changed their cluster assignment.\n",
      "42\n",
      "       31 elements changed their cluster assignment.\n",
      "43\n",
      "       25 elements changed their cluster assignment.\n",
      "44\n",
      "       18 elements changed their cluster assignment.\n",
      "45\n",
      "       15 elements changed their cluster assignment.\n",
      "46\n",
      "       10 elements changed their cluster assignment.\n",
      "47\n",
      "        8 elements changed their cluster assignment.\n",
      "48\n",
      "        8 elements changed their cluster assignment.\n",
      "49\n",
      "        8 elements changed their cluster assignment.\n",
      "50\n",
      "        7 elements changed their cluster assignment.\n",
      "51\n",
      "        8 elements changed their cluster assignment.\n",
      "52\n",
      "        3 elements changed their cluster assignment.\n",
      "53\n",
      "        3 elements changed their cluster assignment.\n",
      "54\n",
      "        4 elements changed their cluster assignment.\n",
      "55\n",
      "        2 elements changed their cluster assignment.\n",
      "56\n",
      "        3 elements changed their cluster assignment.\n",
      "57\n",
      "        3 elements changed their cluster assignment.\n",
      "58\n",
      "        1 elements changed their cluster assignment.\n",
      "59\n",
      "        1 elements changed their cluster assignment.\n",
      "60\n"
     ]
    },
    {
     "data": {
      "image/png": "[encoded data removed]",
      "text/plain": [
       "<matplotlib.figure.Figure at 0x103d07e90>"
      ]
     },
     "metadata": {},
     "output_type": "display_data"
    }
   ],
   "source": [
    "k = 3\n",
    "heterogeneity = []\n",
    "initial_centroids = get_initial_centroids(tf_idf, k, seed=0)\n",
    "centroids, cluster_assignment = kmeans(tf_idf, k, initial_centroids, maxiter=400,\n",
    "                                       record_heterogeneity=heterogeneity, verbose=True)\n",
    "plot_heterogeneity(heterogeneity, k)"
   ]
  },
  {
   "cell_type": "code",
   "execution_count": 53,
   "metadata": {
    "collapsed": true
   },
   "outputs": [],
   "source": [
    "import itertools\n",
    "import operator\n",
    "\n",
    "def most_common(L):\n",
    "  # get an iterable of (item, iterable) pairs\n",
    "  SL = sorted((x, i) for i, x in enumerate(L))\n",
    "  # print 'SL:', SL\n",
    "  groups = itertools.groupby(SL, key=operator.itemgetter(0))\n",
    "  # auxiliary function to get \"quality\" for an item\n",
    "  def _auxfun(g):\n",
    "    item, iterable = g\n",
    "    count = 0\n",
    "    min_index = len(L)\n",
    "    for _, where in iterable:\n",
    "      count += 1\n",
    "      min_index = min(min_index, where)\n",
    "    # print 'item %r, count %r, minind %r' % (item, count, min_index)\n",
    "    return count, -min_index\n",
    "  # pick the highest-count/earliest item\n",
    "  return max(groups, key=_auxfun)[0]"
   ]
  },
  {
   "cell_type": "code",
   "execution_count": 47,
   "metadata": {
    "collapsed": false
   },
   "outputs": [
    {
     "name": "stdout",
     "output_type": "stream",
     "text": [
      "19595\n",
      "10427\n",
      "29049\n"
     ]
    }
   ],
   "source": [
    "#quiz 4\n",
    "print (cluster_assignment==0).sum()\n",
    "print (cluster_assignment==1).sum()\n",
    "print (cluster_assignment==2).sum()"
   ]
  },
  {
   "cell_type": "code",
   "execution_count": 54,
   "metadata": {
    "collapsed": false
   },
   "outputs": [
    {
     "name": "stdout",
     "output_type": "stream",
     "text": [
      "2\n"
     ]
    }
   ],
   "source": [
    "print most_common(cluster_assignment)"
   ]
  },
  {
   "cell_type": "code",
   "execution_count": 55,
   "metadata": {
    "collapsed": false
   },
   "outputs": [
    {
     "name": "stdout",
     "output_type": "stream",
     "text": [
      "seed=000000, heterogeneity=57457.52442\n",
      "most 18047\n",
      "seed=020000, heterogeneity=57533.20100\n",
      "most 15779\n",
      "seed=040000, heterogeneity=57512.69257\n",
      "most 18132\n",
      "seed=060000, heterogeneity=57466.97925\n",
      "most 17900\n",
      "seed=080000, heterogeneity=57494.92990\n",
      "most 17582\n",
      "seed=100000, heterogeneity=57484.42210\n",
      "most 16969\n",
      "seed=120000, heterogeneity=57554.62410\n",
      "most 16481\n",
      "252.586762905\n"
     ]
    }
   ],
   "source": [
    "k = 10\n",
    "heterogeneity = {}\n",
    "import time\n",
    "start = time.time()\n",
    "for seed in [0, 20000, 40000, 60000, 80000, 100000, 120000]:\n",
    "    initial_centroids = get_initial_centroids(tf_idf, k, seed)\n",
    "    centroids, cluster_assignment = kmeans(tf_idf, k, initial_centroids, maxiter=400,\n",
    "                                           record_heterogeneity=None, verbose=False)\n",
    "        \n",
    "    # To save time, compute heterogeneity only once in the end\n",
    "    \n",
    "    heterogeneity[seed] = compute_heterogeneity(tf_idf, k, centroids, cluster_assignment)\n",
    "    print('seed={0:06d}, heterogeneity={1:.5f}'.format(seed, heterogeneity[seed]))\n",
    "    print \"most\",(cluster_assignment==most_common(cluster_assignment)).sum()\n",
    "    sys.stdout.flush()\n",
    "end = time.time()\n",
    "print(end-start)"
   ]
  },
  {
   "cell_type": "code",
   "execution_count": 57,
   "metadata": {
    "collapsed": false
   },
   "outputs": [],
   "source": [
    "def smart_initialize(data, k, seed=None):\n",
    "    '''Use k-means++ to initialize a good set of centroids'''\n",
    "    if seed is not None: # useful for obtaining consistent results\n",
    "        np.random.seed(seed)\n",
    "    centroids = np.zeros((k, data.shape[1]))\n",
    "    \n",
    "    # Randomly choose the first centroid.\n",
    "    # Since we have no prior knowledge, choose uniformly at random\n",
    "    idx = np.random.randint(data.shape[0])\n",
    "    centroids[0] = data[idx,:].toarray()\n",
    "    # Compute distances from the first centroid chosen to all the other data points\n",
    "    squared_distances = pairwise_distances(data, centroids[0:1], metric='euclidean').flatten()**2\n",
    "    \n",
    "    for i in xrange(1, k):\n",
    "        # Choose the next centroid randomly, so that the probability for each data point to be chosen\n",
    "        # is directly proportional to its squared distance from the nearest centroid.\n",
    "        # Roughtly speaking, a new centroid should be as far as from ohter centroids as possible.\n",
    "        idx = np.random.choice(data.shape[0], 1, p=squared_distances/sum(squared_distances))\n",
    "        centroids[i] = data[idx,:].toarray()\n",
    "        # Now compute distances from the centroids to all data points\n",
    "        squared_distances = np.min(pairwise_distances(data, centroids[0:i+1], metric='euclidean')**2,axis=1)\n",
    "    \n",
    "    return centroids"
   ]
  },
  {
   "cell_type": "code",
   "execution_count": 58,
   "metadata": {
    "collapsed": false
   },
   "outputs": [
    {
     "name": "stdout",
     "output_type": "stream",
     "text": [
      "seed=000000, heterogeneity=57468.63808\n",
      "seed=020000, heterogeneity=57486.94263\n",
      "seed=040000, heterogeneity=57454.35926\n",
      "seed=060000, heterogeneity=57530.43659\n",
      "seed=080000, heterogeneity=57454.51852\n",
      "seed=100000, heterogeneity=57471.56674\n",
      "seed=120000, heterogeneity=57523.28839\n",
      "375.484364033\n"
     ]
    }
   ],
   "source": [
    "k = 10\n",
    "heterogeneity_smart = {}\n",
    "start = time.time()\n",
    "for seed in [0, 20000, 40000, 60000, 80000, 100000, 120000]:\n",
    "    initial_centroids = smart_initialize(tf_idf, k, seed)\n",
    "    centroids, cluster_assignment = kmeans(tf_idf, k, initial_centroids, maxiter=400,\n",
    "                                           record_heterogeneity=None, verbose=False)\n",
    "    # To save time, compute heterogeneity only once in the end\n",
    "    heterogeneity_smart[seed] = compute_heterogeneity(tf_idf, k, centroids, cluster_assignment)\n",
    "    print('seed={0:06d}, heterogeneity={1:.5f}'.format(seed, heterogeneity_smart[seed]))\n",
    "    sys.stdout.flush()\n",
    "end = time.time()\n",
    "print(end-start)"
   ]
  },
  {
   "cell_type": "code",
   "execution_count": 59,
   "metadata": {
    "collapsed": false
   },
   "outputs": [
    {
     "data": {
      "image/png": "[encoded data removed]",
      "text/plain": [
       "<matplotlib.figure.Figure at 0x103d2c0d0>"
      ]
     },
     "metadata": {},
     "output_type": "display_data"
    }
   ],
   "source": [
    "plt.figure(figsize=(8,5))\n",
    "plt.boxplot([heterogeneity.values(), heterogeneity_smart.values()], vert=False)\n",
    "plt.yticks([1, 2], ['k-means', 'k-means++'])\n",
    "plt.rcParams.update({'font.size': 16})\n",
    "plt.tight_layout()"
   ]
  },
  {
   "cell_type": "code",
   "execution_count": 62,
   "metadata": {
    "collapsed": false
   },
   "outputs": [],
   "source": [
    "def kmeans_multiple_runs(data, k, maxiter, num_runs, seed_list=None, verbose=False):\n",
    "    heterogeneity = {}\n",
    "    \n",
    "    min_heterogeneity_achieved = float('inf')\n",
    "    best_seed = None\n",
    "    final_centroids = None\n",
    "    final_cluster_assignment = None\n",
    "    \n",
    "    for i in xrange(num_runs):\n",
    "        \n",
    "        # Use UTC time if no seeds are provided \n",
    "        if seed_list is not None: \n",
    "            seed = seed_list[i]\n",
    "            np.random.seed(seed)\n",
    "        else: \n",
    "            seed = int(time.time())\n",
    "            np.random.seed(seed)\n",
    "        \n",
    "        # Use k-means++ initialization\n",
    "        # YOUR CODE HERE\n",
    "        initial_centroids = smart_initialize(data, k, seed)\n",
    "        \n",
    "        # Run k-means\n",
    "        # YOUR CODE HERE\n",
    "        centroids, cluster_assignment = kmeans(data, k, initial_centroids, maxiter,\n",
    "                                       record_heterogeneity=heterogeneity, verbose=True)\n",
    "        \n",
    "        # To save time, compute heterogeneity only once in the end\n",
    "        # YOUR CODE HERE\n",
    "        heterogeneity[seed] =  compute_heterogeneity(data, k, centroids, cluster_assignment)\n",
    "        \n",
    "        if verbose:\n",
    "            print('seed={0:06d}, heterogeneity={1:.5f}'.format(seed, heterogeneity[seed]))\n",
    "            sys.stdout.flush()\n",
    "        \n",
    "        # if current measurement of heterogeneity is lower than previously seen,\n",
    "        # update the minimum record of heterogeneity.\n",
    "        if heterogeneity[seed] < min_heterogeneity_achieved:\n",
    "            min_heterogeneity_achieved = heterogeneity[seed]\n",
    "            best_seed = seed\n",
    "            final_centroids = centroids\n",
    "            final_cluster_assignment = cluster_assignment\n",
    "    \n",
    "    # Return the centroids and cluster assignments that minimize heterogeneity.\n",
    "    return final_centroids, final_cluster_assignment"
   ]
  },
  {
   "cell_type": "code",
   "execution_count": 63,
   "metadata": {
    "collapsed": false
   },
   "outputs": [
    {
     "name": "stdout",
     "output_type": "stream",
     "text": [
      "2\n",
      "10\n",
      "25\n",
      "50\n",
      "100\n"
     ]
    },
    {
     "data": {
      "image/png": "[encoded data removed]",
      "text/plain": [
       "<matplotlib.figure.Figure at 0x11c8a47d0>"
      ]
     },
     "metadata": {},
     "output_type": "display_data"
    }
   ],
   "source": [
    "def plot_k_vs_heterogeneity(k_values, heterogeneity_values):\n",
    "    plt.figure(figsize=(7,4))\n",
    "    plt.plot(k_values, heterogeneity_values, linewidth=4)\n",
    "    plt.xlabel('K')\n",
    "    plt.ylabel('Heterogeneity')\n",
    "    plt.title('K vs. Heterogeneity')\n",
    "    plt.rcParams.update({'font.size': 16})\n",
    "    plt.tight_layout()\n",
    "\n",
    "filename = 'kmeans-arrays.npz'\n",
    "\n",
    "heterogeneity_values = []\n",
    "k_list = [2, 10, 25, 50, 100]\n",
    "\n",
    "if os.path.exists(filename):\n",
    "    arrays = np.load(filename)\n",
    "    centroids = {}\n",
    "    cluster_assignment = {}\n",
    "    for k in k_list:\n",
    "        print k\n",
    "        sys.stdout.flush()\n",
    "        centroids[k] = arrays['centroids_{0:d}'.format(k)]\n",
    "        cluster_assignment[k] = arrays['cluster_assignment_{0:d}'.format(k)]\n",
    "        score = compute_heterogeneity(tf_idf, k, centroids[k], cluster_assignment[k])\n",
    "        heterogeneity_values.append(score)\n",
    "    \n",
    "    plot_k_vs_heterogeneity(k_list, heterogeneity_values)\n",
    "\n",
    "else:\n",
    "    print('File not found. Skipping.')"
   ]
  },
  {
   "cell_type": "code",
   "execution_count": 64,
   "metadata": {
    "collapsed": true
   },
   "outputs": [],
   "source": [
    "def visualize_document_clusters(wiki, tf_idf, centroids, cluster_assignment, k, map_index_to_word, display_content=True):\n",
    "    '''wiki: original dataframe\n",
    "       tf_idf: data matrix, sparse matrix format\n",
    "       map_index_to_word: SFrame specifying the mapping betweeen words and column indices\n",
    "       display_content: if True, display 8 nearest neighbors of each centroid'''\n",
    "    \n",
    "    print('==========================================================')\n",
    "\n",
    "    # Visualize each cluster c\n",
    "    for c in xrange(k):\n",
    "        # Cluster heading\n",
    "        print('Cluster {0:d}    '.format(c)),\n",
    "        # Print top 5 words with largest TF-IDF weights in the cluster\n",
    "        idx = centroids[c].argsort()[::-1]\n",
    "        for i in xrange(5): # Print each word along with the TF-IDF weight\n",
    "            print('{0:s}:{1:.3f}'.format(map_index_to_word['category'][idx[i]], centroids[c,idx[i]])),\n",
    "        print('')\n",
    "        \n",
    "        if display_content:\n",
    "            # Compute distances from the centroid to all data points in the cluster,\n",
    "            # and compute nearest neighbors of the centroids within the cluster.\n",
    "            distances = pairwise_distances(tf_idf, [centroids[c]], metric='euclidean').flatten()\n",
    "            distances[cluster_assignment!=c] = float('inf') # remove non-members from consideration\n",
    "            nearest_neighbors = distances.argsort()\n",
    "            # For 8 nearest neighbors, print the title as well as first 180 characters of text.\n",
    "            # Wrap the text at 80-character mark.\n",
    "            for i in xrange(8):\n",
    "                text = ' '.join(wiki[nearest_neighbors[i]]['text'].split(None, 25)[0:25])\n",
    "                print('\\n* {0:50s} {1:.5f}\\n  {2:s}\\n  {3:s}'.format(wiki[nearest_neighbors[i]]['name'],\n",
    "                    distances[nearest_neighbors[i]], text[:90], text[90:180] if len(text) > 90 else ''))\n",
    "        print('==========================================================')"
   ]
  },
  {
   "cell_type": "code",
   "execution_count": 65,
   "metadata": {
    "collapsed": false
   },
   "outputs": [
    {
     "name": "stdout",
     "output_type": "stream",
     "text": [
      "==========================================================\n",
      "Cluster 0     she:0.025 her:0.017 music:0.012 he:0.011 university:0.011 \n",
      "\n",
      "* Anita Kunz                                         0.97401\n",
      "  anita e kunz oc born 1956 is a canadianborn artist and illustratorkunz has lived in london\n",
      "   new york and toronto contributing to magazines and working\n",
      "\n",
      "* Janet Jackson                                      0.97472\n",
      "  janet damita jo jackson born may 16 1966 is an american singer songwriter and actress know\n",
      "  n for a series of sonically innovative socially conscious and\n",
      "\n",
      "* Madonna (entertainer)                              0.97475\n",
      "  madonna louise ciccone tkoni born august 16 1958 is an american singer songwriter actress \n",
      "  and businesswoman she achieved popularity by pushing the boundaries of lyrical\n",
      "\n",
      "* %C3%81ine Hyland                                   0.97536\n",
      "  ine hyland ne donlon is emeritus professor of education and former vicepresident of univer\n",
      "  sity college cork ireland she was born in 1942 in athboy co\n",
      "\n",
      "* Jane Fonda                                         0.97621\n",
      "  jane fonda born lady jayne seymour fonda december 21 1937 is an american actress writer po\n",
      "  litical activist former fashion model and fitness guru she is\n",
      "\n",
      "* Christine Robertson                                0.97643\n",
      "  christine mary robertson born 5 october 1948 is an australian politician and former austra\n",
      "  lian labor party member of the new south wales legislative council serving\n",
      "\n",
      "* Pat Studdy-Clift                                   0.97643\n",
      "  pat studdyclift is an australian author specialising in historical fiction and nonfictionb\n",
      "  orn in 1925 she lived in gunnedah until she was sent to a boarding\n",
      "\n",
      "* Alexandra Potter                                   0.97646\n",
      "  alexandra potter born 1970 is a british author of romantic comediesborn in bradford yorksh\n",
      "  ire england and educated at liverpool university gaining an honors degree in\n",
      "==========================================================\n",
      "Cluster 1     league:0.040 season:0.036 team:0.029 football:0.029 played:0.028 \n",
      "\n",
      "* Todd Williams                                      0.95468\n",
      "  todd michael williams born february 13 1971 in syracuse new york is a former major league \n",
      "  baseball relief pitcher he attended east syracuseminoa high school\n",
      "\n",
      "* Gord Sherven                                       0.95622\n",
      "  gordon r sherven born august 21 1963 in gravelbourg saskatchewan and raised in mankota sas\n",
      "  katchewan is a retired canadian professional ice hockey forward who played\n",
      "\n",
      "* Justin Knoedler                                    0.95639\n",
      "  justin joseph knoedler born july 17 1980 in springfield illinois is a former major league \n",
      "  baseball catcherknoedler was originally drafted by the st louis cardinals\n",
      "\n",
      "* Chris Day                                          0.95648\n",
      "  christopher nicholas chris day born 28 july 1975 is an english professional footballer who\n",
      "   plays as a goalkeeper for stevenageday started his career at tottenham\n",
      "\n",
      "* Tony Smith (footballer, born 1957)                 0.95653\n",
      "  anthony tony smith born 20 february 1957 is a former footballer who played as a central de\n",
      "  fender in the football league in the 1970s and\n",
      "\n",
      "* Ashley Prescott                                    0.95761\n",
      "  ashley prescott born 11 september 1972 is a former australian rules footballer he played w\n",
      "  ith the richmond and fremantle football clubs in the afl between\n",
      "\n",
      "* Leslie Lea                                         0.95802\n",
      "  leslie lea born 5 october 1942 in manchester is an english former professional footballer \n",
      "  he played as a midfielderlea began his professional career with blackpool\n",
      "\n",
      "* Tommy Anderson (footballer)                        0.95818\n",
      "  thomas cowan tommy anderson born 24 september 1934 in haddington is a scottish former prof\n",
      "  essional footballer he played as a forward and was noted for\n",
      "==========================================================\n"
     ]
    }
   ],
   "source": [
    "visualize_document_clusters(wiki, tf_idf, centroids[2], cluster_assignment[2], 2, map_index_to_word)"
   ]
  },
  {
   "cell_type": "code",
   "execution_count": 66,
   "metadata": {
    "collapsed": false
   },
   "outputs": [
    {
     "name": "stdout",
     "output_type": "stream",
     "text": [
      "==========================================================\n",
      "Cluster 0     film:0.020 art:0.014 he:0.011 book:0.010 television:0.010 \n",
      "\n",
      "* Wilson McLean                                      0.97479\n",
      "  wilson mclean born 1937 is a scottish illustrator and artist he has illustrated primarily \n",
      "  in the field of advertising but has also provided cover art\n",
      "\n",
      "* Anton Hecht                                        0.97748\n",
      "  anton hecht is an english artist born in london in 2007 he asked musicians from around the\n",
      "   durham area to contribute to a soundtrack for\n",
      "\n",
      "* David Salle                                        0.97800\n",
      "  david salle born 1952 is an american painter printmaker and stage designer who helped defi\n",
      "  ne postmodern sensibility salle was born in norman oklahoma he earned\n",
      "\n",
      "* Vipin Sharma                                       0.97805\n",
      "  vipin sharma is an indian actor born in new delhi he is a graduate of national school of d\n",
      "  rama new delhi india and the canadian\n",
      "\n",
      "* Paul Swadel                                        0.97823\n",
      "  paul swadel is a new zealand film director and producerhe has directed and produced many s\n",
      "  uccessful short films which have screened in competition at cannes\n",
      "\n",
      "* Allan Stratton                                     0.97834\n",
      "  allan stratton born 1951 is a canadian playwright and novelistborn in stratford ontario st\n",
      "  ratton began his professional arts career while he was still in high\n",
      "\n",
      "* Bill Bennett (director)                            0.97848\n",
      "  bill bennett born 1953 is an australian film director producer and screenwriterhe dropped \n",
      "  out of medicine at queensland university in 1972 and joined the australian\n",
      "\n",
      "* Rafal Zielinski                                    0.97850\n",
      "  rafal zielinski born 1957 montreal is an independent filmmaker he is best known for direct\n",
      "  ing films such as fun sundance film festival special jury award\n",
      "==========================================================\n",
      "Cluster 1     league:0.052 rugby:0.044 club:0.042 cup:0.042 season:0.041 \n",
      "\n",
      "* Chris Day                                          0.93220\n",
      "  christopher nicholas chris day born 28 july 1975 is an english professional footballer who\n",
      "   plays as a goalkeeper for stevenageday started his career at tottenham\n",
      "\n",
      "* Gary Hooper                                        0.93481\n",
      "  gary hooper born 26 january 1988 is an english professional footballer who plays as a forw\n",
      "  ard for norwich cityhooper started his career at nonleague grays\n",
      "\n",
      "* Tony Smith (footballer, born 1957)                 0.93504\n",
      "  anthony tony smith born 20 february 1957 is a former footballer who played as a central de\n",
      "  fender in the football league in the 1970s and\n",
      "\n",
      "* Jason Roberts (footballer)                         0.93527\n",
      "  jason andre davis roberts mbe born 25 january 1978 is a former professional footballer and\n",
      "   now a football punditborn in park royal london roberts was\n",
      "\n",
      "* Paul Robinson (footballer, born 1979)              0.93587\n",
      "  paul william robinson born 15 october 1979 is an english professional footballer who plays\n",
      "   for blackburn rovers as a goalkeeper he is a former england\n",
      "\n",
      "* Alex Lawless                                       0.93732\n",
      "  alexander graham alex lawless born 26 march 1985 is a welsh professional footballer who pl\n",
      "  ays for luton town as a midfielderlawless began his career with\n",
      "\n",
      "* Neil Grayson                                       0.93748\n",
      "  neil grayson born 1 november 1964 in york is an english footballer who last played as a st\n",
      "  riker for sutton towngraysons first club was local\n",
      "\n",
      "* Sol Campbell                                       0.93759\n",
      "  sulzeer jeremiah sol campbell born 18 september 1974 is a former england international foo\n",
      "  tballer a central defender he had a 19year career playing in the\n",
      "==========================================================\n",
      "Cluster 2     championships:0.040 tour:0.037 championship:0.032 world:0.029 won:0.029 \n",
      "\n",
      "* Alessandra Aguilar                                 0.94505\n",
      "  alessandra aguilar born 1 july 1978 in lugo is a spanish longdistance runner who specialis\n",
      "  es in marathon running she represented her country in the event\n",
      "\n",
      "* Heather Samuel                                     0.94529\n",
      "  heather barbara samuel born 6 july 1970 is a retired sprinter from antigua and barbuda who\n",
      "   specialized in the 100 and 200 metres in 1990\n",
      "\n",
      "* Viola Kibiwot                                      0.94617\n",
      "  viola jelagat kibiwot born december 22 1983 in keiyo district is a runner from kenya who s\n",
      "  pecialises in the 1500 metres kibiwot won her first\n",
      "\n",
      "* Ayelech Worku                                      0.94636\n",
      "  ayelech worku born june 12 1979 is an ethiopian longdistance runner most known for winning\n",
      "   two world championships bronze medals on the 5000 metres she\n",
      "\n",
      "* Morhad Amdouni                                     0.94763\n",
      "  morhad amdouni born 21 january 1988 in portovecchio is a french middle and longdistance ru\n",
      "  nner he was european junior champion in track and cross country\n",
      "\n",
      "* Krisztina Papp                                     0.94776\n",
      "  krisztina papp born 17 december 1982 in eger is a hungarian long distance runner she is th\n",
      "  e national indoor record holder over 5000 mpapp began\n",
      "\n",
      "* Petra Lammert                                      0.94869\n",
      "  petra lammert born 3 march 1984 in freudenstadt badenwrttemberg is a former german shot pu\n",
      "  tter and current bobsledder she was the 2009 european indoor champion\n",
      "\n",
      "* Hasan Mahboob                                      0.94880\n",
      "  hasan mahboob ali born silas kirui on 31 december 1981 in kapsabet is a bahraini longdista\n",
      "  nce runner he became naturalized in bahrain and switched from\n",
      "==========================================================\n",
      "Cluster 3     baseball:0.110 league:0.103 major:0.052 games:0.047 season:0.045 \n",
      "\n",
      "* Steve Springer                                     0.89300\n",
      "  steven michael springer born february 11 1961 is an american former professional baseball \n",
      "  player who appeared in major league baseball as a third baseman and\n",
      "\n",
      "* Dave Ford                                          0.89547\n",
      "  david alan ford born december 29 1956 is a former major league baseball pitcher for the ba\n",
      "  ltimore orioles born in cleveland ohio ford attended lincolnwest\n",
      "\n",
      "* Todd Williams                                      0.89820\n",
      "  todd michael williams born february 13 1971 in syracuse new york is a former major league \n",
      "  baseball relief pitcher he attended east syracuseminoa high school\n",
      "\n",
      "* Justin Knoedler                                    0.90035\n",
      "  justin joseph knoedler born july 17 1980 in springfield illinois is a former major league \n",
      "  baseball catcherknoedler was originally drafted by the st louis cardinals\n",
      "\n",
      "* Kevin Nicholson (baseball)                         0.90643\n",
      "  kevin ronald nicholson born march 29 1976 is a canadian baseball shortstop he played part \n",
      "  of the 2000 season for the san diego padres of\n",
      "\n",
      "* James Baldwin (baseball)                           0.90648\n",
      "  james j baldwin jr born july 15 1971 is a former major league baseball pitcher he batted a\n",
      "  nd threw righthanded in his 11season career he\n",
      "\n",
      "* Joe Strong                                         0.90655\n",
      "  joseph benjamin strong born september 9 1962 in fairfield california is a former major lea\n",
      "  gue baseball pitcher who played for the florida marlins from 2000\n",
      "\n",
      "* Javier L%C3%B3pez (baseball)                       0.90691\n",
      "  javier alfonso lpez born july 11 1977 is a puerto rican professional baseball pitcher for \n",
      "  the san francisco giants of major league baseball he is\n",
      "==========================================================\n",
      "Cluster 4     research:0.038 university:0.035 professor:0.032 science:0.023 institute:0.019 \n",
      "\n",
      "* Lawrence W. Green                                  0.95957\n",
      "  lawrence w green is best known by health education researchers as the originator of the pr\n",
      "  ecede model and codeveloper of the precedeproceed model which has\n",
      "\n",
      "* Timothy Luke                                       0.96057\n",
      "  timothy w luke is university distinguished professor of political science in the college o\n",
      "  f liberal arts and human sciences as well as program chair of\n",
      "\n",
      "* Ren%C3%A9e Fox                                     0.96100\n",
      "  rene c fox a summa cum laude graduate of smith college in 1949 earned her phd in sociology\n",
      "   in 1954 from radcliffe college harvard university\n",
      "\n",
      "* Francis Gavin                                      0.96323\n",
      "  francis j gavin is first frank stanton chair in nuclear security policy studies and profes\n",
      "  sor of political science at mit before joining mit he was\n",
      "\n",
      "* Catherine Hakim                                    0.96374\n",
      "  catherine hakim born 30 may 1948 is a british sociologist who specialises in womens employ\n",
      "  ment and womens issues she is currently a professorial research fellow\n",
      "\n",
      "* Stephen Park Turner                                0.96405\n",
      "  stephen turner is a researcher in social practice social and political theory and the phil\n",
      "  osophy of the social sciences he is graduate research professor in\n",
      "\n",
      "* Robert Bates (political scientist)                 0.96489\n",
      "  robert hinrichs bates born 1942 is an american political scientist he is eaton professor o\n",
      "  f the science of government in the departments of government and\n",
      "\n",
      "* Georg von Krogh                                    0.96505\n",
      "  georg von krogh was born in oslo norway he is a professor at eth zurich and holds the chai\n",
      "  r of strategic management and innovation he\n",
      "==========================================================\n",
      "Cluster 5     football:0.076 coach:0.060 basketball:0.056 season:0.044 played:0.037 \n",
      "\n",
      "* Todd Curley                                        0.92731\n",
      "  todd curley born 14 january 1973 is a former australian rules footballer who played for co\n",
      "  llingwood and the western bulldogs in the australian football league\n",
      "\n",
      "* Ashley Prescott                                    0.92992\n",
      "  ashley prescott born 11 september 1972 is a former australian rules footballer he played w\n",
      "  ith the richmond and fremantle football clubs in the afl between\n",
      "\n",
      "* Pete Richardson                                    0.93204\n",
      "  pete richardson born october 17 1946 in youngstown ohio is a former american football defe\n",
      "  nsive back in the national football league and former college head\n",
      "\n",
      "* Nathan Brown (Australian footballer born 1976)     0.93561\n",
      "  nathan daniel brown born 14 august 1976 is an australian rules footballer who played for t\n",
      "  he melbourne demons in the australian football leaguehe was drafted\n",
      "\n",
      "* Earl Spalding                                      0.93654\n",
      "  earl spalding born 11 march 1965 in south perth is a former australian rules footballer wh\n",
      "  o played for melbourne and carlton in the victorian football\n",
      "\n",
      "* Bud Grant                                          0.93766\n",
      "  harry peter bud grant jr born may 20 1927 is a former american football and canadian footb\n",
      "  all head coach grant served as the head coach\n",
      "\n",
      "* Tyrone Wheatley                                    0.93885\n",
      "  tyrone anthony wheatley born january 19 1972 is the running backs coach of michigan and a \n",
      "  former professional american football player who played 10 seasons\n",
      "\n",
      "* Nick Salter                                        0.93916\n",
      "  nick salter born 30 july 1987 is an australian rules footballer who played for port adelai\n",
      "  de football club in the australian football league aflhe was\n",
      "==========================================================\n",
      "Cluster 6     she:0.138 her:0.089 actress:0.014 film:0.013 miss:0.012 \n",
      "\n",
      "* Lauren Royal                                       0.93445\n",
      "  lauren royal born march 3 circa 1965 is a book writer from california royal has written bo\n",
      "  th historic and novelistic booksa selfproclaimed angels baseball fan\n",
      "\n",
      "* Barbara Hershey                                    0.93496\n",
      "  barbara hershey born barbara lynn herzstein february 5 1948 once known as barbara seagull \n",
      "  is an american actress in a career spanning nearly 50 years\n",
      "\n",
      "* Janet Jackson                                      0.93559\n",
      "  janet damita jo jackson born may 16 1966 is an american singer songwriter and actress know\n",
      "  n for a series of sonically innovative socially conscious and\n",
      "\n",
      "* Jane Fonda                                         0.93759\n",
      "  jane fonda born lady jayne seymour fonda december 21 1937 is an american actress writer po\n",
      "  litical activist former fashion model and fitness guru she is\n",
      "\n",
      "* Janine Shepherd                                    0.93833\n",
      "  janine lee shepherd am born 1962 is an australian pilot and former crosscountry skier shep\n",
      "  herds career as an athlete ended when she suffered major injuries\n",
      "\n",
      "* Ellina Graypel                                     0.93847\n",
      "  ellina graypel born july 19 1972 is an awardwinning russian singersongwriter she was born \n",
      "  near the volga river in the heart of russia she spent\n",
      "\n",
      "* Alexandra Potter                                   0.93858\n",
      "  alexandra potter born 1970 is a british author of romantic comediesborn in bradford yorksh\n",
      "  ire england and educated at liverpool university gaining an honors degree in\n",
      "\n",
      "* Melissa Hart (actress)                             0.93913\n",
      "  melissa hart is an american actress singer and teacher she made her broadway debut in 1966\n",
      "   as an ensemble member in jerry bocks the apple\n",
      "==========================================================\n",
      "Cluster 7     music:0.057 album:0.040 band:0.035 orchestra:0.023 released:0.022 \n",
      "\n",
      "* Brenton Broadstock                                 0.95722\n",
      "  brenton broadstock ao born 1952 is an australian composerbroadstock was born in melbourne \n",
      "  he studied history politics and music at monash university and later composition\n",
      "\n",
      "* Prince (musician)                                  0.96057\n",
      "  prince rogers nelson born june 7 1958 known by his mononym prince is an american singerson\n",
      "  gwriter multiinstrumentalist and actor he has produced ten platinum albums\n",
      "\n",
      "* Will.i.am                                          0.96066\n",
      "  william adams born march 15 1975 known by his stage name william pronounced will i am is a\n",
      "  n american rapper songwriter entrepreneur actor dj record\n",
      "\n",
      "* Tom Bancroft                                       0.96117\n",
      "  tom bancroft born 1967 london is a british jazz drummer and composer he began drumming age\n",
      "  d seven and started off playing jazz with his father\n",
      "\n",
      "* Julian Knowles                                     0.96152\n",
      "  julian knowles is an australian composer and performer specialising in new and emerging te\n",
      "  chnologies his creative work spans the fields of composition for theatre dance\n",
      "\n",
      "* Dan Siegel (musician)                              0.96223\n",
      "  dan siegel born in seattle washington is a pianist composer and record producer his earlie\n",
      "  r music has been described as new age while his more\n",
      "\n",
      "* Tony Mills (musician)                              0.96238\n",
      "  tony mills born 7 july 1962 in solihull england is an english rock singer best known for h\n",
      "  is work with shy and tnthailing from birmingham\n",
      "\n",
      "* Don Robertson (composer)                           0.96249\n",
      "  don robertson born 1942 is an american composerdon robertson was born in 1942 in denver co\n",
      "  lorado and began studying music with conductor and pianist antonia\n",
      "==========================================================\n",
      "Cluster 8     hockey:0.216 nhl:0.134 ice:0.065 season:0.053 league:0.047 \n",
      "\n",
      "* Gord Sherven                                       0.83598\n",
      "  gordon r sherven born august 21 1963 in gravelbourg saskatchewan and raised in mankota sas\n",
      "  katchewan is a retired canadian professional ice hockey forward who played\n",
      "\n",
      "* Eric Brewer                                        0.83765\n",
      "  eric peter brewer born april 17 1979 is a canadian professional ice hockey defenceman for \n",
      "  the anaheim ducks of the national hockey league nhl he\n",
      "\n",
      "* Stephen Johns (ice hockey)                         0.84580\n",
      "  stephen johns born april 18 1992 is an american professional ice hockey defenceman he is c\n",
      "  urrently playing with the rockford icehogs of the american hockey\n",
      "\n",
      "* Mike Stevens (ice hockey, born 1965)               0.85320\n",
      "  mike stevens born december 30 1965 in kitchener ontario is a retired professional ice hock\n",
      "  ey player who played 23 games in the national hockey league\n",
      "\n",
      "* Tanner Glass                                       0.85484\n",
      "  tanner glass born november 29 1983 is a canadian professional ice hockey winger who plays \n",
      "  for the new york rangers of the national hockey league\n",
      "\n",
      "* Todd Strueby                                       0.86053\n",
      "  todd kenneth strueby born june 15 1963 in lanigan saskatchewan and raised in humboldt sask\n",
      "  atchewan is a retired canadian professional ice hockey centre who played\n",
      "\n",
      "* Steven King (ice hockey)                           0.86129\n",
      "  steven andrew king born july 22 1969 in east greenwich rhode island is a former ice hockey\n",
      "   forward who played professionally from 1991 to 2000\n",
      "\n",
      "* Don Jackson (ice hockey)                           0.86661\n",
      "  donald clinton jackson born september 2 1956 in minneapolis minnesota and bloomington minn\n",
      "  esota is an ice hockey coach and a retired professional ice hockey player\n",
      "==========================================================\n",
      "Cluster 9     party:0.028 election:0.025 minister:0.025 served:0.021 law:0.019 \n",
      "\n",
      "* Doug Lewis                                         0.96516\n",
      "  douglas grinslade doug lewis pc qc born april 17 1938 is a former canadian politician a ch\n",
      "  artered accountant and lawyer by training lewis entered the\n",
      "\n",
      "* David Anderson (British Columbia politician)       0.96530\n",
      "  david a anderson pc oc born august 16 1937 in victoria british columbia is a former canadi\n",
      "  an cabinet minister educated at victoria college in victoria\n",
      "\n",
      "* Lucienne Robillard                                 0.96679\n",
      "  lucienne robillard pc born june 16 1945 is a canadian politician and a member of the liber\n",
      "  al party of canada she sat in the house\n",
      "\n",
      "* Bob Menendez                                       0.96686\n",
      "  robert bob menendez born january 1 1954 is the senior united states senator from new jerse\n",
      "  y he is a member of the democratic party first\n",
      "\n",
      "* Mal Sandon                                         0.96706\n",
      "  malcolm john mal sandon born 16 september 1945 is an australian politician he was an austr\n",
      "  alian labor party member of the victorian legislative council from\n",
      "\n",
      "* Roger Price (Australian politician)                0.96717\n",
      "  leo roger spurway price born 26 november 1945 is a former australian politician he was ele\n",
      "  cted as a member of the australian house of representatives\n",
      "\n",
      "* Maureen Lyster                                     0.96734\n",
      "  maureen anne lyster born 10 september 1943 is an australian politician she was an australi\n",
      "  an labor party member of the victorian legislative assembly from 1985\n",
      "\n",
      "* Don Bell                                           0.96739\n",
      "  donald h bell born march 10 1942 in new westminster british columbia is a canadian politic\n",
      "  ian he is currently serving as a councillor for the\n",
      "==========================================================\n"
     ]
    }
   ],
   "source": [
    "k = 10\n",
    "visualize_document_clusters(wiki, tf_idf, centroids[k], cluster_assignment[k], k, map_index_to_word)"
   ]
  },
  {
   "cell_type": "code",
   "execution_count": 67,
   "metadata": {
    "collapsed": false
   },
   "outputs": [
    {
     "data": {
      "text/plain": [
       "array([17602,  3415,  3535,  1736,  6445,  2552,  7106,  7155,   599,  8926])"
      ]
     },
     "execution_count": 67,
     "metadata": {},
     "output_type": "execute_result"
    }
   ],
   "source": [
    "np.bincount(cluster_assignment[10])"
   ]
  },
  {
   "cell_type": "code",
   "execution_count": 68,
   "metadata": {
    "collapsed": false
   },
   "outputs": [
    {
     "name": "stdout",
     "output_type": "stream",
     "text": [
      "==========================================================\n",
      "Cluster 0     law:0.077 district:0.048 court:0.046 republican:0.038 senate:0.038 \n",
      "==========================================================\n",
      "Cluster 1     research:0.054 professor:0.033 science:0.032 university:0.031 physics:0.029 \n",
      "==========================================================\n",
      "Cluster 2     hockey:0.216 nhl:0.134 ice:0.065 season:0.052 league:0.047 \n",
      "==========================================================\n",
      "Cluster 3     party:0.065 election:0.042 elected:0.031 parliament:0.027 member:0.023 \n",
      "==========================================================\n",
      "Cluster 4     board:0.025 president:0.023 chairman:0.022 business:0.022 executive:0.020 \n",
      "==========================================================\n",
      "Cluster 5     minister:0.160 prime:0.056 cabinet:0.044 party:0.043 election:0.042 \n",
      "==========================================================\n",
      "Cluster 6     university:0.044 professor:0.037 studies:0.035 history:0.034 philosophy:0.031 \n",
      "==========================================================\n",
      "Cluster 7     election:0.066 manitoba:0.058 liberal:0.051 party:0.045 riding:0.043 \n",
      "==========================================================\n",
      "Cluster 8     racing:0.095 formula:0.056 championship:0.054 race:0.052 poker:0.051 \n",
      "==========================================================\n",
      "Cluster 9     economics:0.146 economic:0.096 economist:0.053 policy:0.048 research:0.043 \n",
      "==========================================================\n",
      "Cluster 10     championships:0.075 olympics:0.050 marathon:0.048 metres:0.048 she:0.048 \n",
      "==========================================================\n",
      "Cluster 11     she:0.144 her:0.092 miss:0.016 actress:0.015 television:0.012 \n",
      "==========================================================\n",
      "Cluster 12     he:0.011 radio:0.009 show:0.009 that:0.009 his:0.009 \n",
      "==========================================================\n",
      "Cluster 13     baseball:0.109 league:0.104 major:0.052 games:0.047 season:0.045 \n",
      "==========================================================\n",
      "Cluster 14     art:0.144 museum:0.076 gallery:0.056 artist:0.033 arts:0.031 \n",
      "==========================================================\n",
      "Cluster 15     football:0.125 afl:0.060 nfl:0.051 season:0.049 played:0.045 \n",
      "==========================================================\n",
      "Cluster 16     music:0.097 jazz:0.061 piano:0.033 composer:0.029 orchestra:0.028 \n",
      "==========================================================\n",
      "Cluster 17     league:0.052 rugby:0.044 club:0.043 cup:0.042 season:0.042 \n",
      "==========================================================\n",
      "Cluster 18     poetry:0.055 novel:0.045 book:0.042 published:0.039 fiction:0.035 \n",
      "==========================================================\n",
      "Cluster 19     film:0.095 theatre:0.038 films:0.035 directed:0.029 television:0.028 \n",
      "==========================================================\n",
      "Cluster 20     album:0.064 band:0.049 music:0.037 released:0.033 song:0.025 \n",
      "==========================================================\n",
      "Cluster 21     bishop:0.075 air:0.066 force:0.048 church:0.047 command:0.045 \n",
      "==========================================================\n",
      "Cluster 22     orchestra:0.146 opera:0.116 symphony:0.106 conductor:0.077 music:0.064 \n",
      "==========================================================\n",
      "Cluster 23     basketball:0.120 coach:0.105 nba:0.065 head:0.042 season:0.040 \n",
      "==========================================================\n",
      "Cluster 24     tour:0.256 pga:0.213 golf:0.142 open:0.073 golfer:0.062 \n",
      "==========================================================\n"
     ]
    }
   ],
   "source": [
    "visualize_document_clusters(wiki, tf_idf, centroids[25], cluster_assignment[25], 25,\n",
    "                            map_index_to_word, display_content=False) # turn off text for brevity"
   ]
  },
  {
   "cell_type": "code",
   "execution_count": 69,
   "metadata": {
    "collapsed": false
   },
   "outputs": [
    {
     "name": "stdout",
     "output_type": "stream",
     "text": [
      "==========================================================\n",
      "Cluster 0     brazilian:0.137 brazil:0.082 de:0.056 rio:0.053 paulo:0.050 \n",
      "==========================================================\n",
      "Cluster 1     bishop:0.170 diocese:0.085 archbishop:0.083 church:0.072 ordained:0.058 \n",
      "==========================================================\n",
      "Cluster 2     zealand:0.247 new:0.069 auckland:0.056 wellington:0.031 zealands:0.029 \n",
      "==========================================================\n",
      "Cluster 3     comics:0.181 comic:0.121 strip:0.042 graphic:0.036 book:0.034 \n",
      "==========================================================\n",
      "Cluster 4     puerto:0.309 rico:0.220 rican:0.066 juan:0.041 ricos:0.031 \n",
      "==========================================================\n",
      "Cluster 5     bbc:0.192 radio:0.127 presenter:0.054 show:0.046 news:0.042 \n",
      "==========================================================\n",
      "Cluster 6     senate:0.059 district:0.053 county:0.051 committee:0.049 state:0.044 \n",
      "==========================================================\n",
      "Cluster 7     labor:0.105 australian:0.099 liberal:0.071 election:0.067 seat:0.061 \n",
      "==========================================================\n",
      "Cluster 8     economics:0.065 university:0.048 research:0.045 professor:0.043 economic:0.043 \n",
      "==========================================================\n",
      "Cluster 9     foreign:0.086 ambassador:0.076 affairs:0.061 nations:0.053 united:0.040 \n",
      "==========================================================\n",
      "Cluster 10     she:0.188 her:0.052 women:0.026 womens:0.020 council:0.019 \n",
      "==========================================================\n",
      "Cluster 11     rowing:0.246 sculls:0.097 rower:0.081 olympics:0.073 championships:0.068 \n",
      "==========================================================\n",
      "Cluster 12     fashion:0.086 photography:0.085 photographer:0.057 photographs:0.038 art:0.025 \n",
      "==========================================================\n",
      "Cluster 13     republican:0.098 governor:0.051 district:0.044 election:0.043 senate:0.043 \n",
      "==========================================================\n",
      "Cluster 14     orchestra:0.227 symphony:0.177 philharmonic:0.084 music:0.080 conductor:0.057 \n",
      "==========================================================\n",
      "Cluster 15     air:0.375 force:0.242 command:0.106 commander:0.094 base:0.080 \n",
      "==========================================================\n",
      "Cluster 16     baseball:0.098 league:0.097 era:0.083 pitcher:0.083 pitched:0.075 \n",
      "==========================================================\n",
      "Cluster 17     church:0.114 theology:0.072 theological:0.066 seminary:0.047 christian:0.037 \n",
      "==========================================================\n",
      "Cluster 18     song:0.071 songs:0.043 music:0.041 album:0.030 singer:0.025 \n",
      "==========================================================\n",
      "Cluster 19     basketball:0.165 nba:0.113 points:0.067 season:0.044 rebounds:0.044 \n",
      "==========================================================\n",
      "Cluster 20     art:0.209 museum:0.186 gallery:0.082 arts:0.046 contemporary:0.044 \n",
      "==========================================================\n",
      "Cluster 21     poetry:0.213 poems:0.083 poet:0.069 poets:0.044 literary:0.040 \n",
      "==========================================================\n",
      "Cluster 22     guitar:0.215 guitarist:0.045 music:0.045 guitars:0.037 classical:0.028 \n",
      "==========================================================\n",
      "Cluster 23     novel:0.127 published:0.045 novels:0.044 book:0.039 fiction:0.030 \n",
      "==========================================================\n",
      "Cluster 24     jazz:0.205 music:0.048 band:0.034 pianist:0.025 recorded:0.023 \n",
      "==========================================================\n",
      "Cluster 25     polish:0.211 poland:0.097 warsaw:0.091 sejm:0.039 she:0.023 \n",
      "==========================================================\n",
      "Cluster 26     trinidad:0.259 tobago:0.178 calypso:0.058 caribbean:0.033 soca:0.027 \n",
      "==========================================================\n",
      "Cluster 27     tour:0.261 pga:0.220 golf:0.140 open:0.073 golfer:0.063 \n",
      "==========================================================\n",
      "Cluster 28     afl:0.177 football:0.128 australian:0.092 adelaide:0.064 season:0.062 \n",
      "==========================================================\n",
      "Cluster 29     skating:0.263 skater:0.107 speed:0.095 she:0.066 ice:0.060 \n",
      "==========================================================\n",
      "Cluster 30     party:0.073 election:0.035 elected:0.029 candidate:0.022 parliament:0.021 \n",
      "==========================================================\n",
      "Cluster 31     rugby:0.198 cup:0.049 against:0.046 played:0.045 wales:0.040 \n",
      "==========================================================\n",
      "Cluster 32     book:0.039 books:0.029 published:0.026 editor:0.021 author:0.017 \n",
      "==========================================================\n",
      "Cluster 33     piano:0.150 music:0.071 orchestra:0.056 competition:0.053 pianist:0.051 \n",
      "==========================================================\n",
      "Cluster 34     wrestling:0.299 wwe:0.163 wrestler:0.092 championship:0.079 tag:0.078 \n",
      "==========================================================\n",
      "Cluster 35     opera:0.269 she:0.067 la:0.041 sang:0.040 operatic:0.036 \n",
      "==========================================================\n",
      "Cluster 36     radio:0.080 show:0.069 host:0.038 sports:0.030 television:0.028 \n",
      "==========================================================\n",
      "Cluster 37     music:0.131 composition:0.038 composer:0.037 orchestra:0.026 ensemble:0.023 \n",
      "==========================================================\n",
      "Cluster 38     drummer:0.099 band:0.092 album:0.040 drums:0.039 rock:0.034 \n",
      "==========================================================\n",
      "Cluster 39     moore:0.306 moores:0.034 her:0.021 she:0.020 sports:0.012 \n",
      "==========================================================\n",
      "Cluster 40     computer:0.086 engineering:0.072 research:0.045 science:0.044 technology:0.042 \n",
      "==========================================================\n",
      "Cluster 41     minister:0.164 prime:0.068 cabinet:0.043 party:0.039 government:0.038 \n",
      "==========================================================\n",
      "Cluster 42     research:0.062 professor:0.035 university:0.034 science:0.031 psychology:0.030 \n",
      "==========================================================\n",
      "Cluster 43     news:0.127 anchor:0.062 reporter:0.059 she:0.045 correspondent:0.045 \n",
      "==========================================================\n",
      "Cluster 44     league:0.088 town:0.060 season:0.060 club:0.059 football:0.055 \n",
      "==========================================================\n",
      "Cluster 45     football:0.046 cup:0.044 club:0.042 team:0.041 league:0.033 \n",
      "==========================================================\n",
      "Cluster 46     football:0.108 vfl:0.099 australian:0.068 melbourne:0.067 goals:0.064 \n",
      "==========================================================\n",
      "Cluster 47     design:0.166 architecture:0.119 architectural:0.058 architects:0.038 architect:0.037 \n",
      "==========================================================\n",
      "Cluster 48     philosophy:0.227 philosophical:0.045 university:0.044 professor:0.041 philosopher:0.041 \n",
      "==========================================================\n",
      "Cluster 49     physics:0.121 mathematics:0.072 mathematical:0.060 theory:0.053 professor:0.043 \n",
      "==========================================================\n",
      "Cluster 50     baron:0.070 lord:0.060 lords:0.054 chairman:0.035 british:0.034 \n",
      "==========================================================\n",
      "Cluster 51     chef:0.143 food:0.136 restaurant:0.095 wine:0.086 cooking:0.064 \n",
      "==========================================================\n",
      "Cluster 52     fiction:0.138 stories:0.069 short:0.054 fantasy:0.048 writers:0.043 \n",
      "==========================================================\n",
      "Cluster 53     poker:0.477 wsop:0.121 event:0.091 limit:0.078 winnings:0.072 \n",
      "==========================================================\n",
      "Cluster 54     canadian:0.122 canada:0.068 toronto:0.053 ontario:0.049 curling:0.028 \n",
      "==========================================================\n",
      "Cluster 55     sri:0.282 lanka:0.183 lankan:0.094 colombo:0.046 ceylon:0.027 \n",
      "==========================================================\n",
      "Cluster 56     conductor:0.207 orchestra:0.136 conducting:0.087 music:0.080 symphony:0.073 \n",
      "==========================================================\n",
      "Cluster 57     prison:0.035 police:0.027 sentenced:0.026 court:0.025 convicted:0.023 \n",
      "==========================================================\n",
      "Cluster 58     blues:0.234 band:0.047 music:0.039 album:0.037 guitar:0.035 \n",
      "==========================================================\n",
      "Cluster 59     dj:0.093 hop:0.052 hip:0.051 music:0.048 album:0.037 \n",
      "==========================================================\n",
      "Cluster 60     de:0.127 la:0.059 el:0.035 mexico:0.026 y:0.025 \n",
      "==========================================================\n",
      "Cluster 61     jewish:0.193 rabbi:0.132 israel:0.052 hebrew:0.038 jews:0.032 \n",
      "==========================================================\n",
      "Cluster 62     ballet:0.362 dance:0.109 dancer:0.084 she:0.057 danced:0.044 \n",
      "==========================================================\n",
      "Cluster 63     hockey:0.220 nhl:0.138 ice:0.067 season:0.053 league:0.048 \n",
      "==========================================================\n",
      "Cluster 64     law:0.148 court:0.093 judge:0.071 district:0.051 justice:0.043 \n",
      "==========================================================\n",
      "Cluster 65     coach:0.205 head:0.086 basketball:0.059 coaching:0.052 football:0.046 \n",
      "==========================================================\n",
      "Cluster 66     armenian:0.278 armenia:0.168 yerevan:0.100 sargsyan:0.055 genocide:0.031 \n",
      "==========================================================\n",
      "Cluster 67     album:0.088 released:0.044 music:0.040 records:0.033 albums:0.027 \n",
      "==========================================================\n",
      "Cluster 68     she:0.158 her:0.152 music:0.020 album:0.016 singer:0.013 \n",
      "==========================================================\n",
      "Cluster 69     theatre:0.194 directed:0.034 production:0.031 play:0.029 actor:0.027 \n",
      "==========================================================\n",
      "Cluster 70     health:0.099 medical:0.089 medicine:0.086 research:0.039 clinical:0.039 \n",
      "==========================================================\n",
      "Cluster 71     european:0.145 parliament:0.115 party:0.053 member:0.049 committee:0.048 \n",
      "==========================================================\n",
      "Cluster 72     marathon:0.459 half:0.087 she:0.082 hours:0.063 championships:0.062 \n",
      "==========================================================\n",
      "Cluster 73     she:0.147 her:0.105 actress:0.098 film:0.063 role:0.054 \n",
      "==========================================================\n",
      "Cluster 74     she:0.101 her:0.065 women:0.012 show:0.010 television:0.009 \n",
      "==========================================================\n",
      "Cluster 75     lds:0.196 church:0.177 churchs:0.099 latterday:0.074 byu:0.073 \n",
      "==========================================================\n",
      "Cluster 76     quebec:0.242 qubcois:0.064 universit:0.061 minister:0.059 parti:0.051 \n",
      "==========================================================\n",
      "Cluster 77     film:0.233 festival:0.085 films:0.048 documentary:0.048 feature:0.045 \n",
      "==========================================================\n",
      "Cluster 78     hong:0.288 kong:0.268 chinese:0.068 china:0.037 wong:0.035 \n",
      "==========================================================\n",
      "Cluster 79     soccer:0.296 league:0.072 indoor:0.065 team:0.053 season:0.052 \n",
      "==========================================================\n",
      "Cluster 80     he:0.011 that:0.009 his:0.009 world:0.008 it:0.007 \n",
      "==========================================================\n",
      "Cluster 81     ireland:0.092 northern:0.072 election:0.072 irish:0.066 gael:0.054 \n",
      "==========================================================\n",
      "Cluster 82     comedy:0.048 series:0.047 actor:0.043 television:0.038 role:0.037 \n",
      "==========================================================\n",
      "Cluster 83     racing:0.128 formula:0.080 race:0.066 car:0.061 driver:0.055 \n",
      "==========================================================\n",
      "Cluster 84     election:0.096 manitoba:0.086 liberal:0.071 party:0.067 conservative:0.060 \n",
      "==========================================================\n",
      "Cluster 85     business:0.038 company:0.031 chairman:0.027 ceo:0.025 management:0.023 \n",
      "==========================================================\n",
      "Cluster 86     chess:0.414 grandmaster:0.085 olympiad:0.066 championship:0.064 fide:0.059 \n",
      "==========================================================\n",
      "Cluster 87     tennis:0.077 doubles:0.068 boxing:0.057 title:0.048 open:0.047 \n",
      "==========================================================\n",
      "Cluster 88     president:0.038 served:0.028 board:0.028 university:0.026 education:0.022 \n",
      "==========================================================\n",
      "Cluster 89     campaign:0.061 presidential:0.054 political:0.047 republican:0.037 bush:0.037 \n",
      "==========================================================\n",
      "Cluster 90     football:0.120 nfl:0.106 yards:0.081 bowl:0.052 quarterback:0.041 \n",
      "==========================================================\n",
      "Cluster 91     baseball:0.117 league:0.108 runs:0.061 major:0.052 batted:0.044 \n",
      "==========================================================\n",
      "Cluster 92     album:0.115 her:0.073 billboard:0.066 chart:0.064 singles:0.064 \n",
      "==========================================================\n",
      "Cluster 93     film:0.087 films:0.050 directed:0.029 television:0.024 actor:0.022 \n",
      "==========================================================\n",
      "Cluster 94     championships:0.106 metres:0.086 she:0.059 m:0.059 athletics:0.054 \n",
      "==========================================================\n",
      "Cluster 95     art:0.109 gallery:0.040 artist:0.036 paintings:0.032 painting:0.032 \n",
      "==========================================================\n",
      "Cluster 96     band:0.120 album:0.040 bands:0.035 bass:0.031 rock:0.030 \n",
      "==========================================================\n",
      "Cluster 97     miss:0.361 pageant:0.209 usa:0.127 she:0.110 teen:0.063 \n",
      "==========================================================\n",
      "Cluster 98     freestyle:0.155 swimming:0.120 m:0.119 swimmer:0.090 heat:0.075 \n",
      "==========================================================\n",
      "Cluster 99     army:0.081 commander:0.080 command:0.076 military:0.076 staff:0.058 \n",
      "==========================================================\n"
     ]
    }
   ],
   "source": [
    "k=100\n",
    "visualize_document_clusters(wiki, tf_idf, centroids[k], cluster_assignment[k], k,\n",
    "                            map_index_to_word, display_content=False)\n",
    "# turn off text for brevity -- turn it on if you are curious ;)"
   ]
  },
  {
   "cell_type": "code",
   "execution_count": 72,
   "metadata": {
    "collapsed": false
   },
   "outputs": [
    {
     "data": {
      "text/plain": [
       "29"
      ]
     },
     "execution_count": 72,
     "metadata": {},
     "output_type": "execute_result"
    }
   ],
   "source": [
    "x=np.bincount(cluster_assignment[100])\n",
    "(x<236).sum()"
   ]
  },
  {
   "cell_type": "code",
   "execution_count": null,
   "metadata": {
    "collapsed": true
   },
   "outputs": [],
   "source": []
  }
 ],
 "metadata": {
  "kernelspec": {
   "display_name": "Python 2",
   "language": "python",
   "name": "python2"
  },
  "language_info": {
   "codemirror_mode": {
    "name": "ipython",
    "version": 2
   },
   "file_extension": ".py",
   "mimetype": "text/x-python",
   "name": "python",
   "nbconvert_exporter": "python",
   "pygments_lexer": "ipython2",
   "version": "2.7.10"
  }
 },
 "nbformat": 4,
 "nbformat_minor": 0
}
