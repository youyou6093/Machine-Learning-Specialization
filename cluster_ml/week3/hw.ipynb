{
 "cells": [
  {
   "cell_type": "code",
   "execution_count": 1,
   "metadata": {
    "collapsed": true
   },
   "outputs": [],
   "source": [
    "import numpy as np"
   ]
  },
  {
   "cell_type": "code",
   "execution_count": 2,
   "metadata": {
    "collapsed": false
   },
   "outputs": [],
   "source": [
    "d1=np.array([-1.88,2.05])\n",
    "d2=np.array([-0.71,0.42])\n",
    "d3=np.array([2.41,-0.67])\n",
    "d4=np.array([1.85,-3.80])\n",
    "d5=np.array([-3.69,-1.33])\n",
    "c1=np.array([2,2])\n",
    "c2=np.array([-2,-2])\n",
    "def dis(a,b):\n",
    "    return np.sqrt((a-b).dot((a-b)))"
   ]
  },
  {
   "cell_type": "code",
   "execution_count": 6,
   "metadata": {
    "collapsed": false
   },
   "outputs": [
    {
     "name": "stdout",
     "output_type": "stream",
     "text": [
      "cluster [-0.06  0.6 ] [-0.92  -2.565]\n",
      "[-1.88  2.05] [2.3269937687926885, 4.7137909372393683]\n",
      "[-0.71  0.42] [0.67446274915668991, 2.9923778170545243]\n",
      "[ 2.41 -0.67] [2.777372859376285, 3.8314390247007717]\n",
      "[ 1.85 -3.8 ] [4.7966759323514854, 3.0328410772739147]\n",
      "[-3.69 -1.33] [4.1111798793047232, 3.0328410772739147]\n",
      "[1, 2, 3] [4, 5]\n"
     ]
    }
   ],
   "source": [
    "print \"cluster\",c1,c2\n",
    "g1=[]\n",
    "g2=[]\n",
    "g1_index=[]\n",
    "g2_index=[]\n",
    "for j,i in enumerate([d1,d2,d3,d4,d5]):\n",
    "    print i,[dis(i,c1),dis(i,c2)]\n",
    "    x=np.argmin(np.array([dis(i,c1),dis(i,c2)]))\n",
    "    #print x\n",
    "    if x==0:\n",
    "        g1.append(i)\n",
    "        g1_index.append(j+1)\n",
    "    else:\n",
    "        g2.append(i)\n",
    "        g2_index.append(j+1)\n",
    "c1=np.average(g1,axis=0)\n",
    "c2=np.average(g2,axis=0)\n",
    "print g1_index,g2_index    "
   ]
  },
  {
   "cell_type": "code",
   "execution_count": null,
   "metadata": {
    "collapsed": true
   },
   "outputs": [],
   "source": []
  }
 ],
 "metadata": {
  "kernelspec": {
   "display_name": "Python 2",
   "language": "python",
   "name": "python2"
  },
  "language_info": {
   "codemirror_mode": {
    "name": "ipython",
    "version": 2
   },
   "file_extension": ".py",
   "mimetype": "text/x-python",
   "name": "python",
   "nbconvert_exporter": "python",
   "pygments_lexer": "ipython2",
   "version": "2.7.10"
  }
 },
 "nbformat": 4,
 "nbformat_minor": 0
}
